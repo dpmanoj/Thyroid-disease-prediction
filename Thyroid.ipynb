{
 "cells": [
  {
   "cell_type": "code",
   "execution_count": 1,
   "metadata": {},
   "outputs": [],
   "source": [
    "import numpy as np\n",
    "import pandas as pd\n",
    "import seaborn as sns\n",
    "import matplotlib.pyplot as plt\n",
    "%matplotlib inline"
   ]
  },
  {
   "cell_type": "code",
   "execution_count": 2,
   "metadata": {},
   "outputs": [
    {
     "data": {
      "text/html": [
       "<div>\n",
       "<table border=\"1\" class=\"dataframe\">\n",
       "  <thead>\n",
       "    <tr style=\"text-align: right;\">\n",
       "      <th></th>\n",
       "      <th>age</th>\n",
       "      <th>sex</th>\n",
       "      <th>on_thyroxine</th>\n",
       "      <th>query_on_thyroxine</th>\n",
       "      <th>on_antithyroid_medication</th>\n",
       "      <th>sick</th>\n",
       "      <th>pregnant</th>\n",
       "      <th>thyroid_surgery</th>\n",
       "      <th>I131_treatment</th>\n",
       "      <th>query_hypothyroid</th>\n",
       "      <th>...</th>\n",
       "      <th>TT4_measured</th>\n",
       "      <th>TT4</th>\n",
       "      <th>T4U_measured</th>\n",
       "      <th>T4U</th>\n",
       "      <th>FTI_measured</th>\n",
       "      <th>FTI</th>\n",
       "      <th>TBG_measured</th>\n",
       "      <th>TBG</th>\n",
       "      <th>referral_source</th>\n",
       "      <th>Class</th>\n",
       "    </tr>\n",
       "  </thead>\n",
       "  <tbody>\n",
       "    <tr>\n",
       "      <th>0</th>\n",
       "      <td>41</td>\n",
       "      <td>F</td>\n",
       "      <td>f</td>\n",
       "      <td>f</td>\n",
       "      <td>f</td>\n",
       "      <td>f</td>\n",
       "      <td>f</td>\n",
       "      <td>f</td>\n",
       "      <td>f</td>\n",
       "      <td>f</td>\n",
       "      <td>...</td>\n",
       "      <td>t</td>\n",
       "      <td>125</td>\n",
       "      <td>t</td>\n",
       "      <td>1.14</td>\n",
       "      <td>t</td>\n",
       "      <td>109</td>\n",
       "      <td>f</td>\n",
       "      <td>?</td>\n",
       "      <td>SVHC</td>\n",
       "      <td>negative</td>\n",
       "    </tr>\n",
       "    <tr>\n",
       "      <th>1</th>\n",
       "      <td>23</td>\n",
       "      <td>F</td>\n",
       "      <td>f</td>\n",
       "      <td>f</td>\n",
       "      <td>f</td>\n",
       "      <td>f</td>\n",
       "      <td>f</td>\n",
       "      <td>f</td>\n",
       "      <td>f</td>\n",
       "      <td>f</td>\n",
       "      <td>...</td>\n",
       "      <td>t</td>\n",
       "      <td>102</td>\n",
       "      <td>f</td>\n",
       "      <td>?</td>\n",
       "      <td>f</td>\n",
       "      <td>?</td>\n",
       "      <td>f</td>\n",
       "      <td>?</td>\n",
       "      <td>other</td>\n",
       "      <td>negative</td>\n",
       "    </tr>\n",
       "    <tr>\n",
       "      <th>2</th>\n",
       "      <td>46</td>\n",
       "      <td>M</td>\n",
       "      <td>f</td>\n",
       "      <td>f</td>\n",
       "      <td>f</td>\n",
       "      <td>f</td>\n",
       "      <td>f</td>\n",
       "      <td>f</td>\n",
       "      <td>f</td>\n",
       "      <td>f</td>\n",
       "      <td>...</td>\n",
       "      <td>t</td>\n",
       "      <td>109</td>\n",
       "      <td>t</td>\n",
       "      <td>0.91</td>\n",
       "      <td>t</td>\n",
       "      <td>120</td>\n",
       "      <td>f</td>\n",
       "      <td>?</td>\n",
       "      <td>other</td>\n",
       "      <td>negative</td>\n",
       "    </tr>\n",
       "    <tr>\n",
       "      <th>3</th>\n",
       "      <td>70</td>\n",
       "      <td>F</td>\n",
       "      <td>t</td>\n",
       "      <td>f</td>\n",
       "      <td>f</td>\n",
       "      <td>f</td>\n",
       "      <td>f</td>\n",
       "      <td>f</td>\n",
       "      <td>f</td>\n",
       "      <td>f</td>\n",
       "      <td>...</td>\n",
       "      <td>t</td>\n",
       "      <td>175</td>\n",
       "      <td>f</td>\n",
       "      <td>?</td>\n",
       "      <td>f</td>\n",
       "      <td>?</td>\n",
       "      <td>f</td>\n",
       "      <td>?</td>\n",
       "      <td>other</td>\n",
       "      <td>negative</td>\n",
       "    </tr>\n",
       "    <tr>\n",
       "      <th>4</th>\n",
       "      <td>70</td>\n",
       "      <td>F</td>\n",
       "      <td>f</td>\n",
       "      <td>f</td>\n",
       "      <td>f</td>\n",
       "      <td>f</td>\n",
       "      <td>f</td>\n",
       "      <td>f</td>\n",
       "      <td>f</td>\n",
       "      <td>f</td>\n",
       "      <td>...</td>\n",
       "      <td>t</td>\n",
       "      <td>61</td>\n",
       "      <td>t</td>\n",
       "      <td>0.87</td>\n",
       "      <td>t</td>\n",
       "      <td>70</td>\n",
       "      <td>f</td>\n",
       "      <td>?</td>\n",
       "      <td>SVI</td>\n",
       "      <td>negative</td>\n",
       "    </tr>\n",
       "  </tbody>\n",
       "</table>\n",
       "<p>5 rows × 30 columns</p>\n",
       "</div>"
      ],
      "text/plain": [
       "  age sex on_thyroxine query_on_thyroxine on_antithyroid_medication sick  \\\n",
       "0  41   F            f                  f                         f    f   \n",
       "1  23   F            f                  f                         f    f   \n",
       "2  46   M            f                  f                         f    f   \n",
       "3  70   F            t                  f                         f    f   \n",
       "4  70   F            f                  f                         f    f   \n",
       "\n",
       "  pregnant thyroid_surgery I131_treatment query_hypothyroid    ...     \\\n",
       "0        f               f              f                 f    ...      \n",
       "1        f               f              f                 f    ...      \n",
       "2        f               f              f                 f    ...      \n",
       "3        f               f              f                 f    ...      \n",
       "4        f               f              f                 f    ...      \n",
       "\n",
       "  TT4_measured  TT4 T4U_measured   T4U FTI_measured  FTI TBG_measured TBG  \\\n",
       "0            t  125            t  1.14            t  109            f   ?   \n",
       "1            t  102            f     ?            f    ?            f   ?   \n",
       "2            t  109            t  0.91            t  120            f   ?   \n",
       "3            t  175            f     ?            f    ?            f   ?   \n",
       "4            t   61            t  0.87            t   70            f   ?   \n",
       "\n",
       "  referral_source     Class  \n",
       "0            SVHC  negative  \n",
       "1           other  negative  \n",
       "2           other  negative  \n",
       "3           other  negative  \n",
       "4             SVI  negative  \n",
       "\n",
       "[5 rows x 30 columns]"
      ]
     },
     "execution_count": 2,
     "metadata": {},
     "output_type": "execute_result"
    }
   ],
   "source": [
    "data = pd.read_csv('thyroid.csv')\n",
    "data.head()"
   ]
  },
  {
   "cell_type": "code",
   "execution_count": 3,
   "metadata": {},
   "outputs": [
    {
     "data": {
      "text/html": [
       "<div>\n",
       "<table border=\"1\" class=\"dataframe\">\n",
       "  <thead>\n",
       "    <tr style=\"text-align: right;\">\n",
       "      <th></th>\n",
       "      <th>age</th>\n",
       "      <th>sex</th>\n",
       "      <th>on_thyroxine</th>\n",
       "      <th>query_on_thyroxine</th>\n",
       "      <th>on_antithyroid_medication</th>\n",
       "      <th>sick</th>\n",
       "      <th>pregnant</th>\n",
       "      <th>thyroid_surgery</th>\n",
       "      <th>I131_treatment</th>\n",
       "      <th>query_hypothyroid</th>\n",
       "      <th>...</th>\n",
       "      <th>TT4_measured</th>\n",
       "      <th>TT4</th>\n",
       "      <th>T4U_measured</th>\n",
       "      <th>T4U</th>\n",
       "      <th>FTI_measured</th>\n",
       "      <th>FTI</th>\n",
       "      <th>TBG_measured</th>\n",
       "      <th>TBG</th>\n",
       "      <th>referral_source</th>\n",
       "      <th>Class</th>\n",
       "    </tr>\n",
       "  </thead>\n",
       "  <tbody>\n",
       "    <tr>\n",
       "      <th>count</th>\n",
       "      <td>3772</td>\n",
       "      <td>3772</td>\n",
       "      <td>3772</td>\n",
       "      <td>3772</td>\n",
       "      <td>3772</td>\n",
       "      <td>3772</td>\n",
       "      <td>3772</td>\n",
       "      <td>3772</td>\n",
       "      <td>3772</td>\n",
       "      <td>3772</td>\n",
       "      <td>...</td>\n",
       "      <td>3772</td>\n",
       "      <td>3772</td>\n",
       "      <td>3772</td>\n",
       "      <td>3772</td>\n",
       "      <td>3772</td>\n",
       "      <td>3772</td>\n",
       "      <td>3772</td>\n",
       "      <td>3772</td>\n",
       "      <td>3772</td>\n",
       "      <td>3772</td>\n",
       "    </tr>\n",
       "    <tr>\n",
       "      <th>unique</th>\n",
       "      <td>94</td>\n",
       "      <td>3</td>\n",
       "      <td>2</td>\n",
       "      <td>2</td>\n",
       "      <td>2</td>\n",
       "      <td>2</td>\n",
       "      <td>2</td>\n",
       "      <td>2</td>\n",
       "      <td>2</td>\n",
       "      <td>2</td>\n",
       "      <td>...</td>\n",
       "      <td>2</td>\n",
       "      <td>242</td>\n",
       "      <td>2</td>\n",
       "      <td>147</td>\n",
       "      <td>2</td>\n",
       "      <td>235</td>\n",
       "      <td>1</td>\n",
       "      <td>1</td>\n",
       "      <td>5</td>\n",
       "      <td>2</td>\n",
       "    </tr>\n",
       "    <tr>\n",
       "      <th>top</th>\n",
       "      <td>59</td>\n",
       "      <td>F</td>\n",
       "      <td>f</td>\n",
       "      <td>f</td>\n",
       "      <td>f</td>\n",
       "      <td>f</td>\n",
       "      <td>f</td>\n",
       "      <td>f</td>\n",
       "      <td>f</td>\n",
       "      <td>f</td>\n",
       "      <td>...</td>\n",
       "      <td>t</td>\n",
       "      <td>?</td>\n",
       "      <td>t</td>\n",
       "      <td>?</td>\n",
       "      <td>t</td>\n",
       "      <td>?</td>\n",
       "      <td>f</td>\n",
       "      <td>?</td>\n",
       "      <td>other</td>\n",
       "      <td>negative</td>\n",
       "    </tr>\n",
       "    <tr>\n",
       "      <th>freq</th>\n",
       "      <td>95</td>\n",
       "      <td>2480</td>\n",
       "      <td>3308</td>\n",
       "      <td>3722</td>\n",
       "      <td>3729</td>\n",
       "      <td>3625</td>\n",
       "      <td>3719</td>\n",
       "      <td>3719</td>\n",
       "      <td>3713</td>\n",
       "      <td>3538</td>\n",
       "      <td>...</td>\n",
       "      <td>3541</td>\n",
       "      <td>231</td>\n",
       "      <td>3385</td>\n",
       "      <td>387</td>\n",
       "      <td>3387</td>\n",
       "      <td>385</td>\n",
       "      <td>3772</td>\n",
       "      <td>3772</td>\n",
       "      <td>2201</td>\n",
       "      <td>3541</td>\n",
       "    </tr>\n",
       "  </tbody>\n",
       "</table>\n",
       "<p>4 rows × 30 columns</p>\n",
       "</div>"
      ],
      "text/plain": [
       "         age   sex on_thyroxine query_on_thyroxine on_antithyroid_medication  \\\n",
       "count   3772  3772         3772               3772                      3772   \n",
       "unique    94     3            2                  2                         2   \n",
       "top       59     F            f                  f                         f   \n",
       "freq      95  2480         3308               3722                      3729   \n",
       "\n",
       "        sick pregnant thyroid_surgery I131_treatment query_hypothyroid  \\\n",
       "count   3772     3772            3772           3772              3772   \n",
       "unique     2        2               2              2                 2   \n",
       "top        f        f               f              f                 f   \n",
       "freq    3625     3719            3719           3713              3538   \n",
       "\n",
       "          ...    TT4_measured   TT4 T4U_measured   T4U FTI_measured   FTI  \\\n",
       "count     ...            3772  3772         3772  3772         3772  3772   \n",
       "unique    ...               2   242            2   147            2   235   \n",
       "top       ...               t     ?            t     ?            t     ?   \n",
       "freq      ...            3541   231         3385   387         3387   385   \n",
       "\n",
       "       TBG_measured   TBG referral_source     Class  \n",
       "count          3772  3772            3772      3772  \n",
       "unique            1     1               5         2  \n",
       "top               f     ?           other  negative  \n",
       "freq           3772  3772            2201      3541  \n",
       "\n",
       "[4 rows x 30 columns]"
      ]
     },
     "execution_count": 3,
     "metadata": {},
     "output_type": "execute_result"
    }
   ],
   "source": [
    "data.describe()"
   ]
  },
  {
   "cell_type": "code",
   "execution_count": 4,
   "metadata": {},
   "outputs": [
    {
     "data": {
      "text/plain": [
       "array(['?'], dtype=object)"
      ]
     },
     "execution_count": 4,
     "metadata": {},
     "output_type": "execute_result"
    }
   ],
   "source": [
    "data['TBG'].unique()"
   ]
  },
  {
   "cell_type": "markdown",
   "metadata": {},
   "source": [
    "### Data cleaning\n",
    "\n",
    "Data cleaning is simply the process of preparing your data the best way possible for the model to learn accurately and effectively from it. Data cleaning takes a lot of patience and time; it is also an essential step to building a good model which makes it worth the while. "
   ]
  },
  {
   "cell_type": "code",
   "execution_count": 3,
   "metadata": {},
   "outputs": [],
   "source": [
    "data['age'] = data['age'].replace('?', np.nan)"
   ]
  },
  {
   "cell_type": "code",
   "execution_count": 4,
   "metadata": {},
   "outputs": [],
   "source": [
    "data['age'].dropna(inplace = True)\n",
    "data['age'] = data.age.astype(str).astype(int)"
   ]
  },
  {
   "cell_type": "code",
   "execution_count": 5,
   "metadata": {},
   "outputs": [
    {
     "data": {
      "text/plain": [
       "1"
      ]
     },
     "execution_count": 5,
     "metadata": {},
     "output_type": "execute_result"
    }
   ],
   "source": [
    "data['age'].isnull().sum()"
   ]
  },
  {
   "cell_type": "code",
   "execution_count": 7,
   "metadata": {},
   "outputs": [],
   "source": [
    "data['age'] = data['age'].dropna()"
   ]
  },
  {
   "cell_type": "code",
   "execution_count": 8,
   "metadata": {},
   "outputs": [
    {
     "data": {
      "text/plain": [
       "1"
      ]
     },
     "execution_count": 8,
     "metadata": {},
     "output_type": "execute_result"
    }
   ],
   "source": [
    "data['age'].isnull().sum()"
   ]
  },
  {
   "cell_type": "code",
   "execution_count": 5,
   "metadata": {},
   "outputs": [
    {
     "data": {
      "text/html": [
       "<div>\n",
       "<table border=\"1\" class=\"dataframe\">\n",
       "  <thead>\n",
       "    <tr style=\"text-align: right;\">\n",
       "      <th></th>\n",
       "      <th>age</th>\n",
       "    </tr>\n",
       "  </thead>\n",
       "  <tbody>\n",
       "    <tr>\n",
       "      <th>count</th>\n",
       "      <td>3771.000000</td>\n",
       "    </tr>\n",
       "    <tr>\n",
       "      <th>mean</th>\n",
       "      <td>51.735879</td>\n",
       "    </tr>\n",
       "    <tr>\n",
       "      <th>std</th>\n",
       "      <td>20.084958</td>\n",
       "    </tr>\n",
       "    <tr>\n",
       "      <th>min</th>\n",
       "      <td>1.000000</td>\n",
       "    </tr>\n",
       "    <tr>\n",
       "      <th>25%</th>\n",
       "      <td>36.000000</td>\n",
       "    </tr>\n",
       "    <tr>\n",
       "      <th>50%</th>\n",
       "      <td>54.000000</td>\n",
       "    </tr>\n",
       "    <tr>\n",
       "      <th>75%</th>\n",
       "      <td>67.000000</td>\n",
       "    </tr>\n",
       "    <tr>\n",
       "      <th>max</th>\n",
       "      <td>455.000000</td>\n",
       "    </tr>\n",
       "  </tbody>\n",
       "</table>\n",
       "</div>"
      ],
      "text/plain": [
       "               age\n",
       "count  3771.000000\n",
       "mean     51.735879\n",
       "std      20.084958\n",
       "min       1.000000\n",
       "25%      36.000000\n",
       "50%      54.000000\n",
       "75%      67.000000\n",
       "max     455.000000"
      ]
     },
     "execution_count": 5,
     "metadata": {},
     "output_type": "execute_result"
    }
   ],
   "source": [
    "data.describe()"
   ]
  },
  {
   "cell_type": "code",
   "execution_count": 89,
   "metadata": {},
   "outputs": [
    {
     "name": "stdout",
     "output_type": "stream",
     "text": [
      "<class 'pandas.core.frame.DataFrame'>\n",
      "RangeIndex: 3772 entries, 0 to 3771\n",
      "Data columns (total 30 columns):\n",
      "age                          3771 non-null float64\n",
      "sex                          3772 non-null object\n",
      "on_thyroxine                 3772 non-null object\n",
      "query_on_thyroxine           3772 non-null object\n",
      "on_antithyroid_medication    3772 non-null object\n",
      "sick                         3772 non-null object\n",
      "pregnant                     3772 non-null object\n",
      "thyroid_surgery              3772 non-null object\n",
      "I131_treatment               3772 non-null object\n",
      "query_hypothyroid            3772 non-null object\n",
      "query_hyperthyroid           3772 non-null object\n",
      "lithium                      3772 non-null object\n",
      "goitre                       3772 non-null object\n",
      "tumor                        3772 non-null object\n",
      "hypopituitary                3772 non-null object\n",
      "psych                        3772 non-null object\n",
      "TSH_measured                 3772 non-null object\n",
      "TSH                          3772 non-null object\n",
      "T3_measured                  3772 non-null object\n",
      "T3                           3772 non-null object\n",
      "TT4_measured                 3772 non-null object\n",
      "TT4                          3772 non-null object\n",
      "T4U_measured                 3772 non-null object\n",
      "T4U                          3772 non-null object\n",
      "FTI_measured                 3772 non-null object\n",
      "FTI                          3772 non-null object\n",
      "TBG_measured                 3772 non-null object\n",
      "TBG                          3772 non-null object\n",
      "referral_source              3772 non-null object\n",
      "Class                        3772 non-null object\n",
      "dtypes: float64(1), object(29)\n",
      "memory usage: 884.1+ KB\n"
     ]
    }
   ],
   "source": [
    "data.info()"
   ]
  },
  {
   "cell_type": "code",
   "execution_count": 9,
   "metadata": {},
   "outputs": [],
   "source": [
    "data['sex'] = data.sex.astype('category')\n",
    "data['on_thyoxine'] = data.on_thyroxine.astype('category')\n",
    "data['on_antithyroid_medication'] = data.on_antithyroid_medication.astype('category')\n",
    "data['sick'] = data.sick.astype('category')\n",
    "data['pregnant'] = data.pregnant.astype('category')\n",
    "data['thyroid_surgery'] = data.thyroid_surgery.astype('category')\n",
    "data['query_hypothyroid'] = data.query_hypothyroid.astype('category')\n",
    "data['query_hyperthyroid'] = data.query_hyperthyroid.astype('category')\n",
    "data['goitre'] = data.goitre.astype('category')\n",
    "data['lithium'] = data.lithium.astype('category')\n",
    "data['tumor'] = data.tumor.astype('category')\n",
    "data['hypopituitary'] = data.hypopituitary.astype('category')\n",
    "data['psych'] = data.psych.astype('category')\n",
    "data['Class'] = data.Class.astype('category')"
   ]
  },
  {
   "cell_type": "code",
   "execution_count": 10,
   "metadata": {},
   "outputs": [],
   "source": [
    "data['sick'] = data.sick.cat.codes"
   ]
  },
  {
   "cell_type": "code",
   "execution_count": 11,
   "metadata": {},
   "outputs": [],
   "source": [
    "data['sex'] = data.sex.astype('category')\n",
    "data['sex'] = data.sex.cat.codes"
   ]
  },
  {
   "cell_type": "code",
   "execution_count": 12,
   "metadata": {},
   "outputs": [],
   "source": [
    "#data['on_thyoxine'] = data.on_thyroxine.cat.codes\n",
    "#data['on_antithyroid_medication'] = data.on_antithyroid_medication.cat.codes\n",
    "data['pregnant'] = data.pregnant.cat.codes\n",
    "data['thyroid_surgery'] = data.thyroid_surgery.cat.codes\n",
    "data['query_hypothyroid'] = data.query_hypothyroid.cat.codes\n",
    "data['query_hyperthyroid'] = data.query_hyperthyroid.cat.codes\n",
    "data['goitre'] = data.goitre.cat.codes\n",
    "data['lithium'] = data.lithium.cat.codes\n",
    "data['tumor'] = data.tumor.cat.codes\n",
    "data['hypopituitary'] = data.hypopituitary.cat.codes\n",
    "data['psych'] = data.psych.cat.codes"
   ]
  },
  {
   "cell_type": "code",
   "execution_count": 13,
   "metadata": {},
   "outputs": [],
   "source": [
    "data['on_thyroxine'] = data.on_thyroxine.astype('category')"
   ]
  },
  {
   "cell_type": "code",
   "execution_count": 14,
   "metadata": {},
   "outputs": [],
   "source": [
    "data['on_thyroxine'] = data.on_thyroxine.cat.codes"
   ]
  },
  {
   "cell_type": "code",
   "execution_count": 15,
   "metadata": {},
   "outputs": [
    {
     "name": "stdout",
     "output_type": "stream",
     "text": [
      "<class 'pandas.core.frame.DataFrame'>\n",
      "RangeIndex: 3772 entries, 0 to 3771\n",
      "Data columns (total 31 columns):\n",
      "age                          3771 non-null float64\n",
      "sex                          3772 non-null int8\n",
      "on_thyroxine                 3772 non-null int8\n",
      "query_on_thyroxine           3772 non-null object\n",
      "on_antithyroid_medication    3772 non-null category\n",
      "sick                         3772 non-null int8\n",
      "pregnant                     3772 non-null int8\n",
      "thyroid_surgery              3772 non-null int8\n",
      "I131_treatment               3772 non-null object\n",
      "query_hypothyroid            3772 non-null int8\n",
      "query_hyperthyroid           3772 non-null int8\n",
      "lithium                      3772 non-null int8\n",
      "goitre                       3772 non-null int8\n",
      "tumor                        3772 non-null int8\n",
      "hypopituitary                3772 non-null int8\n",
      "psych                        3772 non-null int8\n",
      "TSH_measured                 3772 non-null object\n",
      "TSH                          3772 non-null object\n",
      "T3_measured                  3772 non-null object\n",
      "T3                           3772 non-null object\n",
      "TT4_measured                 3772 non-null object\n",
      "TT4                          3772 non-null object\n",
      "T4U_measured                 3772 non-null object\n",
      "T4U                          3772 non-null object\n",
      "FTI_measured                 3772 non-null object\n",
      "FTI                          3772 non-null object\n",
      "TBG_measured                 3772 non-null object\n",
      "TBG                          3772 non-null object\n",
      "referral_source              3772 non-null object\n",
      "Class                        3772 non-null category\n",
      "on_thyoxine                  3772 non-null category\n",
      "dtypes: category(3), float64(1), int8(12), object(15)\n",
      "memory usage: 526.9+ KB\n"
     ]
    }
   ],
   "source": [
    "data.info()"
   ]
  },
  {
   "cell_type": "code",
   "execution_count": null,
   "metadata": {},
   "outputs": [],
   "source": []
  },
  {
   "cell_type": "code",
   "execution_count": 16,
   "metadata": {},
   "outputs": [
    {
     "data": {
      "text/html": [
       "<div>\n",
       "<table border=\"1\" class=\"dataframe\">\n",
       "  <thead>\n",
       "    <tr style=\"text-align: right;\">\n",
       "      <th></th>\n",
       "      <th>age</th>\n",
       "      <th>sex</th>\n",
       "      <th>on_thyroxine</th>\n",
       "      <th>on_antithyroid_medication</th>\n",
       "      <th>sick</th>\n",
       "      <th>pregnant</th>\n",
       "      <th>lithium</th>\n",
       "      <th>goitre</th>\n",
       "      <th>tumor</th>\n",
       "      <th>thyroid_surgery</th>\n",
       "      <th>hypopituitary</th>\n",
       "      <th>psych</th>\n",
       "      <th>TSH</th>\n",
       "      <th>T3</th>\n",
       "      <th>TT4</th>\n",
       "      <th>T4U</th>\n",
       "      <th>FTI</th>\n",
       "      <th>Class</th>\n",
       "    </tr>\n",
       "  </thead>\n",
       "  <tbody>\n",
       "    <tr>\n",
       "      <th>0</th>\n",
       "      <td>41.0</td>\n",
       "      <td>1</td>\n",
       "      <td>0</td>\n",
       "      <td>f</td>\n",
       "      <td>0</td>\n",
       "      <td>0</td>\n",
       "      <td>0</td>\n",
       "      <td>0</td>\n",
       "      <td>0</td>\n",
       "      <td>0</td>\n",
       "      <td>0</td>\n",
       "      <td>0</td>\n",
       "      <td>1.3</td>\n",
       "      <td>2.5</td>\n",
       "      <td>125</td>\n",
       "      <td>1.14</td>\n",
       "      <td>109</td>\n",
       "      <td>negative</td>\n",
       "    </tr>\n",
       "    <tr>\n",
       "      <th>1</th>\n",
       "      <td>23.0</td>\n",
       "      <td>1</td>\n",
       "      <td>0</td>\n",
       "      <td>f</td>\n",
       "      <td>0</td>\n",
       "      <td>0</td>\n",
       "      <td>0</td>\n",
       "      <td>0</td>\n",
       "      <td>0</td>\n",
       "      <td>0</td>\n",
       "      <td>0</td>\n",
       "      <td>0</td>\n",
       "      <td>4.1</td>\n",
       "      <td>2</td>\n",
       "      <td>102</td>\n",
       "      <td>?</td>\n",
       "      <td>?</td>\n",
       "      <td>negative</td>\n",
       "    </tr>\n",
       "    <tr>\n",
       "      <th>2</th>\n",
       "      <td>46.0</td>\n",
       "      <td>2</td>\n",
       "      <td>0</td>\n",
       "      <td>f</td>\n",
       "      <td>0</td>\n",
       "      <td>0</td>\n",
       "      <td>0</td>\n",
       "      <td>0</td>\n",
       "      <td>0</td>\n",
       "      <td>0</td>\n",
       "      <td>0</td>\n",
       "      <td>0</td>\n",
       "      <td>0.98</td>\n",
       "      <td>?</td>\n",
       "      <td>109</td>\n",
       "      <td>0.91</td>\n",
       "      <td>120</td>\n",
       "      <td>negative</td>\n",
       "    </tr>\n",
       "    <tr>\n",
       "      <th>3</th>\n",
       "      <td>70.0</td>\n",
       "      <td>1</td>\n",
       "      <td>1</td>\n",
       "      <td>f</td>\n",
       "      <td>0</td>\n",
       "      <td>0</td>\n",
       "      <td>0</td>\n",
       "      <td>0</td>\n",
       "      <td>0</td>\n",
       "      <td>0</td>\n",
       "      <td>0</td>\n",
       "      <td>0</td>\n",
       "      <td>0.16</td>\n",
       "      <td>1.9</td>\n",
       "      <td>175</td>\n",
       "      <td>?</td>\n",
       "      <td>?</td>\n",
       "      <td>negative</td>\n",
       "    </tr>\n",
       "    <tr>\n",
       "      <th>4</th>\n",
       "      <td>70.0</td>\n",
       "      <td>1</td>\n",
       "      <td>0</td>\n",
       "      <td>f</td>\n",
       "      <td>0</td>\n",
       "      <td>0</td>\n",
       "      <td>0</td>\n",
       "      <td>0</td>\n",
       "      <td>0</td>\n",
       "      <td>0</td>\n",
       "      <td>0</td>\n",
       "      <td>0</td>\n",
       "      <td>0.72</td>\n",
       "      <td>1.2</td>\n",
       "      <td>61</td>\n",
       "      <td>0.87</td>\n",
       "      <td>70</td>\n",
       "      <td>negative</td>\n",
       "    </tr>\n",
       "  </tbody>\n",
       "</table>\n",
       "</div>"
      ],
      "text/plain": [
       "    age  sex  on_thyroxine on_antithyroid_medication  sick  pregnant  lithium  \\\n",
       "0  41.0    1             0                         f     0         0        0   \n",
       "1  23.0    1             0                         f     0         0        0   \n",
       "2  46.0    2             0                         f     0         0        0   \n",
       "3  70.0    1             1                         f     0         0        0   \n",
       "4  70.0    1             0                         f     0         0        0   \n",
       "\n",
       "   goitre  tumor  thyroid_surgery  hypopituitary  psych   TSH   T3  TT4   T4U  \\\n",
       "0       0      0                0              0      0   1.3  2.5  125  1.14   \n",
       "1       0      0                0              0      0   4.1    2  102     ?   \n",
       "2       0      0                0              0      0  0.98    ?  109  0.91   \n",
       "3       0      0                0              0      0  0.16  1.9  175     ?   \n",
       "4       0      0                0              0      0  0.72  1.2   61  0.87   \n",
       "\n",
       "   FTI     Class  \n",
       "0  109  negative  \n",
       "1    ?  negative  \n",
       "2  120  negative  \n",
       "3    ?  negative  \n",
       "4   70  negative  "
      ]
     },
     "execution_count": 16,
     "metadata": {},
     "output_type": "execute_result"
    }
   ],
   "source": [
    "df = data[['age', 'sex', 'on_thyroxine','on_antithyroid_medication', 'sick', 'pregnant',\n",
    "         'lithium', 'goitre', 'tumor', 'thyroid_surgery', 'hypopituitary', 'psych', 'TSH', 'T3',\n",
    "           'TT4', 'T4U', 'FTI', 'Class']]\n",
    "df.head()"
   ]
  },
  {
   "cell_type": "code",
   "execution_count": 11,
   "metadata": {},
   "outputs": [
    {
     "data": {
      "text/html": [
       "<div>\n",
       "<table border=\"1\" class=\"dataframe\">\n",
       "  <thead>\n",
       "    <tr style=\"text-align: right;\">\n",
       "      <th></th>\n",
       "      <th>age</th>\n",
       "      <th>TSH</th>\n",
       "      <th>T3</th>\n",
       "      <th>TT4</th>\n",
       "      <th>T4U</th>\n",
       "      <th>FTI</th>\n",
       "      <th>Class</th>\n",
       "      <th>sex_?</th>\n",
       "      <th>sex_F</th>\n",
       "      <th>sex_M</th>\n",
       "      <th>...</th>\n",
       "      <th>goitre_f</th>\n",
       "      <th>goitre_t</th>\n",
       "      <th>lithium_f</th>\n",
       "      <th>lithium_t</th>\n",
       "      <th>tumor_f</th>\n",
       "      <th>tumor_t</th>\n",
       "      <th>hypopituitary_f</th>\n",
       "      <th>hypopituitary_t</th>\n",
       "      <th>psych_f</th>\n",
       "      <th>psych_t</th>\n",
       "    </tr>\n",
       "  </thead>\n",
       "  <tbody>\n",
       "    <tr>\n",
       "      <th>0</th>\n",
       "      <td>41.0</td>\n",
       "      <td>1.3</td>\n",
       "      <td>2.5</td>\n",
       "      <td>125</td>\n",
       "      <td>1.14</td>\n",
       "      <td>109</td>\n",
       "      <td>negative</td>\n",
       "      <td>0</td>\n",
       "      <td>1</td>\n",
       "      <td>0</td>\n",
       "      <td>...</td>\n",
       "      <td>1</td>\n",
       "      <td>0</td>\n",
       "      <td>1</td>\n",
       "      <td>0</td>\n",
       "      <td>1</td>\n",
       "      <td>0</td>\n",
       "      <td>1</td>\n",
       "      <td>0</td>\n",
       "      <td>1</td>\n",
       "      <td>0</td>\n",
       "    </tr>\n",
       "    <tr>\n",
       "      <th>1</th>\n",
       "      <td>23.0</td>\n",
       "      <td>4.1</td>\n",
       "      <td>2</td>\n",
       "      <td>102</td>\n",
       "      <td>?</td>\n",
       "      <td>?</td>\n",
       "      <td>negative</td>\n",
       "      <td>0</td>\n",
       "      <td>1</td>\n",
       "      <td>0</td>\n",
       "      <td>...</td>\n",
       "      <td>1</td>\n",
       "      <td>0</td>\n",
       "      <td>1</td>\n",
       "      <td>0</td>\n",
       "      <td>1</td>\n",
       "      <td>0</td>\n",
       "      <td>1</td>\n",
       "      <td>0</td>\n",
       "      <td>1</td>\n",
       "      <td>0</td>\n",
       "    </tr>\n",
       "    <tr>\n",
       "      <th>2</th>\n",
       "      <td>46.0</td>\n",
       "      <td>0.98</td>\n",
       "      <td>?</td>\n",
       "      <td>109</td>\n",
       "      <td>0.91</td>\n",
       "      <td>120</td>\n",
       "      <td>negative</td>\n",
       "      <td>0</td>\n",
       "      <td>0</td>\n",
       "      <td>1</td>\n",
       "      <td>...</td>\n",
       "      <td>1</td>\n",
       "      <td>0</td>\n",
       "      <td>1</td>\n",
       "      <td>0</td>\n",
       "      <td>1</td>\n",
       "      <td>0</td>\n",
       "      <td>1</td>\n",
       "      <td>0</td>\n",
       "      <td>1</td>\n",
       "      <td>0</td>\n",
       "    </tr>\n",
       "    <tr>\n",
       "      <th>3</th>\n",
       "      <td>70.0</td>\n",
       "      <td>0.16</td>\n",
       "      <td>1.9</td>\n",
       "      <td>175</td>\n",
       "      <td>?</td>\n",
       "      <td>?</td>\n",
       "      <td>negative</td>\n",
       "      <td>0</td>\n",
       "      <td>1</td>\n",
       "      <td>0</td>\n",
       "      <td>...</td>\n",
       "      <td>1</td>\n",
       "      <td>0</td>\n",
       "      <td>1</td>\n",
       "      <td>0</td>\n",
       "      <td>1</td>\n",
       "      <td>0</td>\n",
       "      <td>1</td>\n",
       "      <td>0</td>\n",
       "      <td>1</td>\n",
       "      <td>0</td>\n",
       "    </tr>\n",
       "    <tr>\n",
       "      <th>4</th>\n",
       "      <td>70.0</td>\n",
       "      <td>0.72</td>\n",
       "      <td>1.2</td>\n",
       "      <td>61</td>\n",
       "      <td>0.87</td>\n",
       "      <td>70</td>\n",
       "      <td>negative</td>\n",
       "      <td>0</td>\n",
       "      <td>1</td>\n",
       "      <td>0</td>\n",
       "      <td>...</td>\n",
       "      <td>1</td>\n",
       "      <td>0</td>\n",
       "      <td>1</td>\n",
       "      <td>0</td>\n",
       "      <td>1</td>\n",
       "      <td>0</td>\n",
       "      <td>1</td>\n",
       "      <td>0</td>\n",
       "      <td>1</td>\n",
       "      <td>0</td>\n",
       "    </tr>\n",
       "  </tbody>\n",
       "</table>\n",
       "<p>5 rows × 30 columns</p>\n",
       "</div>"
      ],
      "text/plain": [
       "    age   TSH   T3  TT4   T4U  FTI     Class  sex_?  sex_F  sex_M   ...     \\\n",
       "0  41.0   1.3  2.5  125  1.14  109  negative      0      1      0   ...      \n",
       "1  23.0   4.1    2  102     ?    ?  negative      0      1      0   ...      \n",
       "2  46.0  0.98    ?  109  0.91  120  negative      0      0      1   ...      \n",
       "3  70.0  0.16  1.9  175     ?    ?  negative      0      1      0   ...      \n",
       "4  70.0  0.72  1.2   61  0.87   70  negative      0      1      0   ...      \n",
       "\n",
       "   goitre_f  goitre_t  lithium_f  lithium_t  tumor_f  tumor_t  \\\n",
       "0         1         0          1          0        1        0   \n",
       "1         1         0          1          0        1        0   \n",
       "2         1         0          1          0        1        0   \n",
       "3         1         0          1          0        1        0   \n",
       "4         1         0          1          0        1        0   \n",
       "\n",
       "   hypopituitary_f  hypopituitary_t  psych_f  psych_t  \n",
       "0                1                0        1        0  \n",
       "1                1                0        1        0  \n",
       "2                1                0        1        0  \n",
       "3                1                0        1        0  \n",
       "4                1                0        1        0  \n",
       "\n",
       "[5 rows x 30 columns]"
      ]
     },
     "execution_count": 11,
     "metadata": {},
     "output_type": "execute_result"
    }
   ],
   "source": [
    "df = pd.get_dummies(df, columns = [ \"sex\", \"on_thyroxine\", \"on_antithyroid_medication\",\n",
    "                               \"sick\", \"pregnant\", \"thyroid_surgery\", \"goitre\",\n",
    "                              \"lithium\", \"tumor\", 'hypopituitary', 'psych'],\n",
    "                             prefix = [\"sex\", \"on_thyroxine\", \"on_antithyroid_medication\",\n",
    "                               \"sick\", \"pregnant\", \"thyroid_surgery\", \"goitre\",\n",
    "                              \"lithium\", \"tumor\", 'hypopituitary', 'psych'])\n",
    "df.head()"
   ]
  },
  {
   "cell_type": "code",
   "execution_count": 12,
   "metadata": {},
   "outputs": [],
   "source": [
    "df['Class'] = df['Class'].cat.codes"
   ]
  },
  {
   "cell_type": "code",
   "execution_count": 13,
   "metadata": {},
   "outputs": [],
   "source": [
    "df = df.drop(['sex_?'], axis = 1)"
   ]
  },
  {
   "cell_type": "code",
   "execution_count": 14,
   "metadata": {},
   "outputs": [
    {
     "data": {
      "text/plain": [
       "?      231\n",
       "101     71\n",
       "93      67\n",
       "98      63\n",
       "103     63\n",
       "102     59\n",
       "87      59\n",
       "94      56\n",
       "91      56\n",
       "99      55\n",
       "89      54\n",
       "120     54\n",
       "95      54\n",
       "92      54\n",
       "96      53\n",
       "113     53\n",
       "109     50\n",
       "90      50\n",
       "86      49\n",
       "100     48\n",
       "105     48\n",
       "107     47\n",
       "104     47\n",
       "111     46\n",
       "83      46\n",
       "112     45\n",
       "97      44\n",
       "118     44\n",
       "116     43\n",
       "88      43\n",
       "      ... \n",
       "257      1\n",
       "246      1\n",
       "220      1\n",
       "240      1\n",
       "255      1\n",
       "4        1\n",
       "272      1\n",
       "237      1\n",
       "219      1\n",
       "273      1\n",
       "211      1\n",
       "24       1\n",
       "186      1\n",
       "207      1\n",
       "21       1\n",
       "2        1\n",
       "47       1\n",
       "206      1\n",
       "49       1\n",
       "43       1\n",
       "239      1\n",
       "6        1\n",
       "301      1\n",
       "29       1\n",
       "226      1\n",
       "40       1\n",
       "4.8      1\n",
       "258      1\n",
       "16       1\n",
       "253      1\n",
       "Name: TT4, dtype: int64"
      ]
     },
     "execution_count": 14,
     "metadata": {},
     "output_type": "execute_result"
    }
   ],
   "source": [
    "df['TT4'].value_counts()"
   ]
  },
  {
   "cell_type": "code",
   "execution_count": 15,
   "metadata": {},
   "outputs": [
    {
     "data": {
      "text/html": [
       "<div>\n",
       "<table border=\"1\" class=\"dataframe\">\n",
       "  <thead>\n",
       "    <tr style=\"text-align: right;\">\n",
       "      <th></th>\n",
       "      <th>age</th>\n",
       "      <th>Class</th>\n",
       "      <th>sex_F</th>\n",
       "      <th>sex_M</th>\n",
       "      <th>on_thyroxine_f</th>\n",
       "      <th>on_thyroxine_t</th>\n",
       "      <th>on_antithyroid_medication_f</th>\n",
       "      <th>on_antithyroid_medication_t</th>\n",
       "      <th>sick_f</th>\n",
       "      <th>sick_t</th>\n",
       "      <th>...</th>\n",
       "      <th>goitre_f</th>\n",
       "      <th>goitre_t</th>\n",
       "      <th>lithium_f</th>\n",
       "      <th>lithium_t</th>\n",
       "      <th>tumor_f</th>\n",
       "      <th>tumor_t</th>\n",
       "      <th>hypopituitary_f</th>\n",
       "      <th>hypopituitary_t</th>\n",
       "      <th>psych_f</th>\n",
       "      <th>psych_t</th>\n",
       "    </tr>\n",
       "  </thead>\n",
       "  <tbody>\n",
       "    <tr>\n",
       "      <th>age</th>\n",
       "      <td>1.000000</td>\n",
       "      <td>0.155010</td>\n",
       "      <td>0.010650</td>\n",
       "      <td>-0.000154</td>\n",
       "      <td>-0.014577</td>\n",
       "      <td>0.014577</td>\n",
       "      <td>0.063882</td>\n",
       "      <td>-0.063882</td>\n",
       "      <td>-0.079468</td>\n",
       "      <td>0.079468</td>\n",
       "      <td>...</td>\n",
       "      <td>0.051830</td>\n",
       "      <td>-0.051830</td>\n",
       "      <td>0.030126</td>\n",
       "      <td>-0.030126</td>\n",
       "      <td>0.025037</td>\n",
       "      <td>-0.025037</td>\n",
       "      <td>0.024927</td>\n",
       "      <td>-0.024927</td>\n",
       "      <td>0.100116</td>\n",
       "      <td>-0.100116</td>\n",
       "    </tr>\n",
       "    <tr>\n",
       "      <th>Class</th>\n",
       "      <td>0.155010</td>\n",
       "      <td>1.000000</td>\n",
       "      <td>-0.036993</td>\n",
       "      <td>0.045876</td>\n",
       "      <td>0.055261</td>\n",
       "      <td>-0.055261</td>\n",
       "      <td>0.027427</td>\n",
       "      <td>-0.027427</td>\n",
       "      <td>-0.091400</td>\n",
       "      <td>0.091400</td>\n",
       "      <td>...</td>\n",
       "      <td>0.000961</td>\n",
       "      <td>-0.000961</td>\n",
       "      <td>0.001642</td>\n",
       "      <td>-0.001642</td>\n",
       "      <td>0.027234</td>\n",
       "      <td>-0.027234</td>\n",
       "      <td>-0.063757</td>\n",
       "      <td>0.063757</td>\n",
       "      <td>0.021909</td>\n",
       "      <td>-0.021909</td>\n",
       "    </tr>\n",
       "    <tr>\n",
       "      <th>sex_F</th>\n",
       "      <td>0.010650</td>\n",
       "      <td>-0.036993</td>\n",
       "      <td>1.000000</td>\n",
       "      <td>-0.912956</td>\n",
       "      <td>-0.098534</td>\n",
       "      <td>0.098534</td>\n",
       "      <td>-0.035408</td>\n",
       "      <td>0.035408</td>\n",
       "      <td>0.001873</td>\n",
       "      <td>-0.001873</td>\n",
       "      <td>...</td>\n",
       "      <td>0.002094</td>\n",
       "      <td>-0.002094</td>\n",
       "      <td>-0.017554</td>\n",
       "      <td>0.017554</td>\n",
       "      <td>-0.077622</td>\n",
       "      <td>0.077622</td>\n",
       "      <td>0.022561</td>\n",
       "      <td>-0.022561</td>\n",
       "      <td>0.090708</td>\n",
       "      <td>-0.090708</td>\n",
       "    </tr>\n",
       "    <tr>\n",
       "      <th>sex_M</th>\n",
       "      <td>-0.000154</td>\n",
       "      <td>0.045876</td>\n",
       "      <td>-0.912956</td>\n",
       "      <td>1.000000</td>\n",
       "      <td>0.095709</td>\n",
       "      <td>-0.095709</td>\n",
       "      <td>0.027278</td>\n",
       "      <td>-0.027278</td>\n",
       "      <td>-0.007438</td>\n",
       "      <td>0.007438</td>\n",
       "      <td>...</td>\n",
       "      <td>-0.010417</td>\n",
       "      <td>0.010417</td>\n",
       "      <td>0.012138</td>\n",
       "      <td>-0.012138</td>\n",
       "      <td>0.073514</td>\n",
       "      <td>-0.073514</td>\n",
       "      <td>-0.024712</td>\n",
       "      <td>0.024712</td>\n",
       "      <td>-0.099896</td>\n",
       "      <td>0.099896</td>\n",
       "    </tr>\n",
       "    <tr>\n",
       "      <th>on_thyroxine_f</th>\n",
       "      <td>-0.014577</td>\n",
       "      <td>0.055261</td>\n",
       "      <td>-0.098534</td>\n",
       "      <td>0.095709</td>\n",
       "      <td>1.000000</td>\n",
       "      <td>-1.000000</td>\n",
       "      <td>-0.002201</td>\n",
       "      <td>0.002201</td>\n",
       "      <td>-0.042053</td>\n",
       "      <td>0.042053</td>\n",
       "      <td>...</td>\n",
       "      <td>-0.010098</td>\n",
       "      <td>0.010098</td>\n",
       "      <td>-0.002509</td>\n",
       "      <td>0.002509</td>\n",
       "      <td>-0.029773</td>\n",
       "      <td>0.029773</td>\n",
       "      <td>-0.006099</td>\n",
       "      <td>0.006099</td>\n",
       "      <td>-0.073571</td>\n",
       "      <td>0.073571</td>\n",
       "    </tr>\n",
       "    <tr>\n",
       "      <th>on_thyroxine_t</th>\n",
       "      <td>0.014577</td>\n",
       "      <td>-0.055261</td>\n",
       "      <td>0.098534</td>\n",
       "      <td>-0.095709</td>\n",
       "      <td>-1.000000</td>\n",
       "      <td>1.000000</td>\n",
       "      <td>0.002201</td>\n",
       "      <td>-0.002201</td>\n",
       "      <td>0.042053</td>\n",
       "      <td>-0.042053</td>\n",
       "      <td>...</td>\n",
       "      <td>0.010098</td>\n",
       "      <td>-0.010098</td>\n",
       "      <td>0.002509</td>\n",
       "      <td>-0.002509</td>\n",
       "      <td>0.029773</td>\n",
       "      <td>-0.029773</td>\n",
       "      <td>0.006099</td>\n",
       "      <td>-0.006099</td>\n",
       "      <td>0.073571</td>\n",
       "      <td>-0.073571</td>\n",
       "    </tr>\n",
       "    <tr>\n",
       "      <th>on_antithyroid_medication_f</th>\n",
       "      <td>0.063882</td>\n",
       "      <td>0.027427</td>\n",
       "      <td>-0.035408</td>\n",
       "      <td>0.027278</td>\n",
       "      <td>-0.002201</td>\n",
       "      <td>0.002201</td>\n",
       "      <td>1.000000</td>\n",
       "      <td>-1.000000</td>\n",
       "      <td>-0.021624</td>\n",
       "      <td>0.021624</td>\n",
       "      <td>...</td>\n",
       "      <td>-0.010241</td>\n",
       "      <td>0.010241</td>\n",
       "      <td>-0.007436</td>\n",
       "      <td>0.007436</td>\n",
       "      <td>-0.017353</td>\n",
       "      <td>0.017353</td>\n",
       "      <td>-0.001749</td>\n",
       "      <td>0.001749</td>\n",
       "      <td>-0.024318</td>\n",
       "      <td>0.024318</td>\n",
       "    </tr>\n",
       "    <tr>\n",
       "      <th>on_antithyroid_medication_t</th>\n",
       "      <td>-0.063882</td>\n",
       "      <td>-0.027427</td>\n",
       "      <td>0.035408</td>\n",
       "      <td>-0.027278</td>\n",
       "      <td>0.002201</td>\n",
       "      <td>-0.002201</td>\n",
       "      <td>-1.000000</td>\n",
       "      <td>1.000000</td>\n",
       "      <td>0.021624</td>\n",
       "      <td>-0.021624</td>\n",
       "      <td>...</td>\n",
       "      <td>0.010241</td>\n",
       "      <td>-0.010241</td>\n",
       "      <td>0.007436</td>\n",
       "      <td>-0.007436</td>\n",
       "      <td>0.017353</td>\n",
       "      <td>-0.017353</td>\n",
       "      <td>0.001749</td>\n",
       "      <td>-0.001749</td>\n",
       "      <td>0.024318</td>\n",
       "      <td>-0.024318</td>\n",
       "    </tr>\n",
       "    <tr>\n",
       "      <th>sick_f</th>\n",
       "      <td>-0.079468</td>\n",
       "      <td>-0.091400</td>\n",
       "      <td>0.001873</td>\n",
       "      <td>-0.007438</td>\n",
       "      <td>-0.042053</td>\n",
       "      <td>0.042053</td>\n",
       "      <td>-0.021624</td>\n",
       "      <td>0.021624</td>\n",
       "      <td>1.000000</td>\n",
       "      <td>-1.000000</td>\n",
       "      <td>...</td>\n",
       "      <td>-0.019205</td>\n",
       "      <td>0.019205</td>\n",
       "      <td>-0.013944</td>\n",
       "      <td>0.013944</td>\n",
       "      <td>0.010949</td>\n",
       "      <td>-0.010949</td>\n",
       "      <td>-0.003279</td>\n",
       "      <td>0.003279</td>\n",
       "      <td>-0.032883</td>\n",
       "      <td>0.032883</td>\n",
       "    </tr>\n",
       "    <tr>\n",
       "      <th>sick_t</th>\n",
       "      <td>0.079468</td>\n",
       "      <td>0.091400</td>\n",
       "      <td>-0.001873</td>\n",
       "      <td>0.007438</td>\n",
       "      <td>0.042053</td>\n",
       "      <td>-0.042053</td>\n",
       "      <td>0.021624</td>\n",
       "      <td>-0.021624</td>\n",
       "      <td>-1.000000</td>\n",
       "      <td>1.000000</td>\n",
       "      <td>...</td>\n",
       "      <td>0.019205</td>\n",
       "      <td>-0.019205</td>\n",
       "      <td>0.013944</td>\n",
       "      <td>-0.013944</td>\n",
       "      <td>-0.010949</td>\n",
       "      <td>0.010949</td>\n",
       "      <td>0.003279</td>\n",
       "      <td>-0.003279</td>\n",
       "      <td>0.032883</td>\n",
       "      <td>-0.032883</td>\n",
       "    </tr>\n",
       "    <tr>\n",
       "      <th>pregnant_f</th>\n",
       "      <td>0.113521</td>\n",
       "      <td>0.030491</td>\n",
       "      <td>-0.076672</td>\n",
       "      <td>0.078665</td>\n",
       "      <td>0.010152</td>\n",
       "      <td>-0.010152</td>\n",
       "      <td>0.072050</td>\n",
       "      <td>-0.072050</td>\n",
       "      <td>-0.024040</td>\n",
       "      <td>0.024040</td>\n",
       "      <td>...</td>\n",
       "      <td>0.012447</td>\n",
       "      <td>-0.012447</td>\n",
       "      <td>-0.008266</td>\n",
       "      <td>0.008266</td>\n",
       "      <td>0.123728</td>\n",
       "      <td>-0.123728</td>\n",
       "      <td>-0.001944</td>\n",
       "      <td>0.001944</td>\n",
       "      <td>-0.016577</td>\n",
       "      <td>0.016577</td>\n",
       "    </tr>\n",
       "    <tr>\n",
       "      <th>pregnant_t</th>\n",
       "      <td>-0.113521</td>\n",
       "      <td>-0.030491</td>\n",
       "      <td>0.076672</td>\n",
       "      <td>-0.078665</td>\n",
       "      <td>-0.010152</td>\n",
       "      <td>0.010152</td>\n",
       "      <td>-0.072050</td>\n",
       "      <td>0.072050</td>\n",
       "      <td>0.024040</td>\n",
       "      <td>-0.024040</td>\n",
       "      <td>...</td>\n",
       "      <td>-0.012447</td>\n",
       "      <td>0.012447</td>\n",
       "      <td>0.008266</td>\n",
       "      <td>-0.008266</td>\n",
       "      <td>-0.123728</td>\n",
       "      <td>0.123728</td>\n",
       "      <td>0.001944</td>\n",
       "      <td>-0.001944</td>\n",
       "      <td>0.016577</td>\n",
       "      <td>-0.016577</td>\n",
       "    </tr>\n",
       "    <tr>\n",
       "      <th>thyroid_surgery_f</th>\n",
       "      <td>0.029502</td>\n",
       "      <td>0.030491</td>\n",
       "      <td>-0.038701</td>\n",
       "      <td>0.034543</td>\n",
       "      <td>0.037583</td>\n",
       "      <td>-0.037583</td>\n",
       "      <td>-0.012819</td>\n",
       "      <td>0.012819</td>\n",
       "      <td>-0.000762</td>\n",
       "      <td>0.000762</td>\n",
       "      <td>...</td>\n",
       "      <td>-0.011385</td>\n",
       "      <td>0.011385</td>\n",
       "      <td>-0.008266</td>\n",
       "      <td>0.008266</td>\n",
       "      <td>-0.004990</td>\n",
       "      <td>0.004990</td>\n",
       "      <td>-0.001944</td>\n",
       "      <td>0.001944</td>\n",
       "      <td>-0.027034</td>\n",
       "      <td>0.027034</td>\n",
       "    </tr>\n",
       "    <tr>\n",
       "      <th>thyroid_surgery_t</th>\n",
       "      <td>-0.029502</td>\n",
       "      <td>-0.030491</td>\n",
       "      <td>0.038701</td>\n",
       "      <td>-0.034543</td>\n",
       "      <td>-0.037583</td>\n",
       "      <td>0.037583</td>\n",
       "      <td>0.012819</td>\n",
       "      <td>-0.012819</td>\n",
       "      <td>0.000762</td>\n",
       "      <td>-0.000762</td>\n",
       "      <td>...</td>\n",
       "      <td>0.011385</td>\n",
       "      <td>-0.011385</td>\n",
       "      <td>0.008266</td>\n",
       "      <td>-0.008266</td>\n",
       "      <td>0.004990</td>\n",
       "      <td>-0.004990</td>\n",
       "      <td>0.001944</td>\n",
       "      <td>-0.001944</td>\n",
       "      <td>0.027034</td>\n",
       "      <td>-0.027034</td>\n",
       "    </tr>\n",
       "    <tr>\n",
       "      <th>goitre_f</th>\n",
       "      <td>0.051830</td>\n",
       "      <td>0.000961</td>\n",
       "      <td>0.002094</td>\n",
       "      <td>-0.010417</td>\n",
       "      <td>-0.010098</td>\n",
       "      <td>0.010098</td>\n",
       "      <td>-0.010241</td>\n",
       "      <td>0.010241</td>\n",
       "      <td>-0.019205</td>\n",
       "      <td>0.019205</td>\n",
       "      <td>...</td>\n",
       "      <td>1.000000</td>\n",
       "      <td>-1.000000</td>\n",
       "      <td>-0.006604</td>\n",
       "      <td>0.006604</td>\n",
       "      <td>0.002399</td>\n",
       "      <td>-0.002399</td>\n",
       "      <td>-0.001553</td>\n",
       "      <td>0.001553</td>\n",
       "      <td>-0.008575</td>\n",
       "      <td>0.008575</td>\n",
       "    </tr>\n",
       "    <tr>\n",
       "      <th>goitre_t</th>\n",
       "      <td>-0.051830</td>\n",
       "      <td>-0.000961</td>\n",
       "      <td>-0.002094</td>\n",
       "      <td>0.010417</td>\n",
       "      <td>0.010098</td>\n",
       "      <td>-0.010098</td>\n",
       "      <td>0.010241</td>\n",
       "      <td>-0.010241</td>\n",
       "      <td>0.019205</td>\n",
       "      <td>-0.019205</td>\n",
       "      <td>...</td>\n",
       "      <td>-1.000000</td>\n",
       "      <td>1.000000</td>\n",
       "      <td>0.006604</td>\n",
       "      <td>-0.006604</td>\n",
       "      <td>-0.002399</td>\n",
       "      <td>0.002399</td>\n",
       "      <td>0.001553</td>\n",
       "      <td>-0.001553</td>\n",
       "      <td>0.008575</td>\n",
       "      <td>-0.008575</td>\n",
       "    </tr>\n",
       "    <tr>\n",
       "      <th>lithium_f</th>\n",
       "      <td>0.030126</td>\n",
       "      <td>0.001642</td>\n",
       "      <td>-0.017554</td>\n",
       "      <td>0.012138</td>\n",
       "      <td>-0.002509</td>\n",
       "      <td>0.002509</td>\n",
       "      <td>-0.007436</td>\n",
       "      <td>0.007436</td>\n",
       "      <td>-0.013944</td>\n",
       "      <td>0.013944</td>\n",
       "      <td>...</td>\n",
       "      <td>-0.006604</td>\n",
       "      <td>0.006604</td>\n",
       "      <td>1.000000</td>\n",
       "      <td>-1.000000</td>\n",
       "      <td>-0.011190</td>\n",
       "      <td>0.011190</td>\n",
       "      <td>-0.001128</td>\n",
       "      <td>0.001128</td>\n",
       "      <td>0.037896</td>\n",
       "      <td>-0.037896</td>\n",
       "    </tr>\n",
       "    <tr>\n",
       "      <th>lithium_t</th>\n",
       "      <td>-0.030126</td>\n",
       "      <td>-0.001642</td>\n",
       "      <td>0.017554</td>\n",
       "      <td>-0.012138</td>\n",
       "      <td>0.002509</td>\n",
       "      <td>-0.002509</td>\n",
       "      <td>0.007436</td>\n",
       "      <td>-0.007436</td>\n",
       "      <td>0.013944</td>\n",
       "      <td>-0.013944</td>\n",
       "      <td>...</td>\n",
       "      <td>0.006604</td>\n",
       "      <td>-0.006604</td>\n",
       "      <td>-1.000000</td>\n",
       "      <td>1.000000</td>\n",
       "      <td>0.011190</td>\n",
       "      <td>-0.011190</td>\n",
       "      <td>0.001128</td>\n",
       "      <td>-0.001128</td>\n",
       "      <td>-0.037896</td>\n",
       "      <td>0.037896</td>\n",
       "    </tr>\n",
       "    <tr>\n",
       "      <th>tumor_f</th>\n",
       "      <td>0.025037</td>\n",
       "      <td>0.027234</td>\n",
       "      <td>-0.077622</td>\n",
       "      <td>0.073514</td>\n",
       "      <td>-0.029773</td>\n",
       "      <td>0.029773</td>\n",
       "      <td>-0.017353</td>\n",
       "      <td>0.017353</td>\n",
       "      <td>0.010949</td>\n",
       "      <td>-0.010949</td>\n",
       "      <td>...</td>\n",
       "      <td>0.002399</td>\n",
       "      <td>-0.002399</td>\n",
       "      <td>-0.011190</td>\n",
       "      <td>0.011190</td>\n",
       "      <td>1.000000</td>\n",
       "      <td>-1.000000</td>\n",
       "      <td>-0.002632</td>\n",
       "      <td>0.002632</td>\n",
       "      <td>-0.020966</td>\n",
       "      <td>0.020966</td>\n",
       "    </tr>\n",
       "    <tr>\n",
       "      <th>tumor_t</th>\n",
       "      <td>-0.025037</td>\n",
       "      <td>-0.027234</td>\n",
       "      <td>0.077622</td>\n",
       "      <td>-0.073514</td>\n",
       "      <td>0.029773</td>\n",
       "      <td>-0.029773</td>\n",
       "      <td>0.017353</td>\n",
       "      <td>-0.017353</td>\n",
       "      <td>-0.010949</td>\n",
       "      <td>0.010949</td>\n",
       "      <td>...</td>\n",
       "      <td>-0.002399</td>\n",
       "      <td>0.002399</td>\n",
       "      <td>0.011190</td>\n",
       "      <td>-0.011190</td>\n",
       "      <td>-1.000000</td>\n",
       "      <td>1.000000</td>\n",
       "      <td>0.002632</td>\n",
       "      <td>-0.002632</td>\n",
       "      <td>0.020966</td>\n",
       "      <td>-0.020966</td>\n",
       "    </tr>\n",
       "    <tr>\n",
       "      <th>hypopituitary_f</th>\n",
       "      <td>0.024927</td>\n",
       "      <td>-0.063757</td>\n",
       "      <td>0.022561</td>\n",
       "      <td>-0.024712</td>\n",
       "      <td>-0.006099</td>\n",
       "      <td>0.006099</td>\n",
       "      <td>-0.001749</td>\n",
       "      <td>0.001749</td>\n",
       "      <td>-0.003279</td>\n",
       "      <td>0.003279</td>\n",
       "      <td>...</td>\n",
       "      <td>-0.001553</td>\n",
       "      <td>0.001553</td>\n",
       "      <td>-0.001128</td>\n",
       "      <td>0.001128</td>\n",
       "      <td>-0.002632</td>\n",
       "      <td>0.002632</td>\n",
       "      <td>1.000000</td>\n",
       "      <td>-1.000000</td>\n",
       "      <td>-0.003688</td>\n",
       "      <td>0.003688</td>\n",
       "    </tr>\n",
       "    <tr>\n",
       "      <th>hypopituitary_t</th>\n",
       "      <td>-0.024927</td>\n",
       "      <td>0.063757</td>\n",
       "      <td>-0.022561</td>\n",
       "      <td>0.024712</td>\n",
       "      <td>0.006099</td>\n",
       "      <td>-0.006099</td>\n",
       "      <td>0.001749</td>\n",
       "      <td>-0.001749</td>\n",
       "      <td>0.003279</td>\n",
       "      <td>-0.003279</td>\n",
       "      <td>...</td>\n",
       "      <td>0.001553</td>\n",
       "      <td>-0.001553</td>\n",
       "      <td>0.001128</td>\n",
       "      <td>-0.001128</td>\n",
       "      <td>0.002632</td>\n",
       "      <td>-0.002632</td>\n",
       "      <td>-1.000000</td>\n",
       "      <td>1.000000</td>\n",
       "      <td>0.003688</td>\n",
       "      <td>-0.003688</td>\n",
       "    </tr>\n",
       "    <tr>\n",
       "      <th>psych_f</th>\n",
       "      <td>0.100116</td>\n",
       "      <td>0.021909</td>\n",
       "      <td>0.090708</td>\n",
       "      <td>-0.099896</td>\n",
       "      <td>-0.073571</td>\n",
       "      <td>0.073571</td>\n",
       "      <td>-0.024318</td>\n",
       "      <td>0.024318</td>\n",
       "      <td>-0.032883</td>\n",
       "      <td>0.032883</td>\n",
       "      <td>...</td>\n",
       "      <td>-0.008575</td>\n",
       "      <td>0.008575</td>\n",
       "      <td>0.037896</td>\n",
       "      <td>-0.037896</td>\n",
       "      <td>-0.020966</td>\n",
       "      <td>0.020966</td>\n",
       "      <td>-0.003688</td>\n",
       "      <td>0.003688</td>\n",
       "      <td>1.000000</td>\n",
       "      <td>-1.000000</td>\n",
       "    </tr>\n",
       "    <tr>\n",
       "      <th>psych_t</th>\n",
       "      <td>-0.100116</td>\n",
       "      <td>-0.021909</td>\n",
       "      <td>-0.090708</td>\n",
       "      <td>0.099896</td>\n",
       "      <td>0.073571</td>\n",
       "      <td>-0.073571</td>\n",
       "      <td>0.024318</td>\n",
       "      <td>-0.024318</td>\n",
       "      <td>0.032883</td>\n",
       "      <td>-0.032883</td>\n",
       "      <td>...</td>\n",
       "      <td>0.008575</td>\n",
       "      <td>-0.008575</td>\n",
       "      <td>-0.037896</td>\n",
       "      <td>0.037896</td>\n",
       "      <td>0.020966</td>\n",
       "      <td>-0.020966</td>\n",
       "      <td>0.003688</td>\n",
       "      <td>-0.003688</td>\n",
       "      <td>-1.000000</td>\n",
       "      <td>1.000000</td>\n",
       "    </tr>\n",
       "  </tbody>\n",
       "</table>\n",
       "<p>24 rows × 24 columns</p>\n",
       "</div>"
      ],
      "text/plain": [
       "                                  age     Class     sex_F     sex_M  \\\n",
       "age                          1.000000  0.155010  0.010650 -0.000154   \n",
       "Class                        0.155010  1.000000 -0.036993  0.045876   \n",
       "sex_F                        0.010650 -0.036993  1.000000 -0.912956   \n",
       "sex_M                       -0.000154  0.045876 -0.912956  1.000000   \n",
       "on_thyroxine_f              -0.014577  0.055261 -0.098534  0.095709   \n",
       "on_thyroxine_t               0.014577 -0.055261  0.098534 -0.095709   \n",
       "on_antithyroid_medication_f  0.063882  0.027427 -0.035408  0.027278   \n",
       "on_antithyroid_medication_t -0.063882 -0.027427  0.035408 -0.027278   \n",
       "sick_f                      -0.079468 -0.091400  0.001873 -0.007438   \n",
       "sick_t                       0.079468  0.091400 -0.001873  0.007438   \n",
       "pregnant_f                   0.113521  0.030491 -0.076672  0.078665   \n",
       "pregnant_t                  -0.113521 -0.030491  0.076672 -0.078665   \n",
       "thyroid_surgery_f            0.029502  0.030491 -0.038701  0.034543   \n",
       "thyroid_surgery_t           -0.029502 -0.030491  0.038701 -0.034543   \n",
       "goitre_f                     0.051830  0.000961  0.002094 -0.010417   \n",
       "goitre_t                    -0.051830 -0.000961 -0.002094  0.010417   \n",
       "lithium_f                    0.030126  0.001642 -0.017554  0.012138   \n",
       "lithium_t                   -0.030126 -0.001642  0.017554 -0.012138   \n",
       "tumor_f                      0.025037  0.027234 -0.077622  0.073514   \n",
       "tumor_t                     -0.025037 -0.027234  0.077622 -0.073514   \n",
       "hypopituitary_f              0.024927 -0.063757  0.022561 -0.024712   \n",
       "hypopituitary_t             -0.024927  0.063757 -0.022561  0.024712   \n",
       "psych_f                      0.100116  0.021909  0.090708 -0.099896   \n",
       "psych_t                     -0.100116 -0.021909 -0.090708  0.099896   \n",
       "\n",
       "                             on_thyroxine_f  on_thyroxine_t  \\\n",
       "age                               -0.014577        0.014577   \n",
       "Class                              0.055261       -0.055261   \n",
       "sex_F                             -0.098534        0.098534   \n",
       "sex_M                              0.095709       -0.095709   \n",
       "on_thyroxine_f                     1.000000       -1.000000   \n",
       "on_thyroxine_t                    -1.000000        1.000000   \n",
       "on_antithyroid_medication_f       -0.002201        0.002201   \n",
       "on_antithyroid_medication_t        0.002201       -0.002201   \n",
       "sick_f                            -0.042053        0.042053   \n",
       "sick_t                             0.042053       -0.042053   \n",
       "pregnant_f                         0.010152       -0.010152   \n",
       "pregnant_t                        -0.010152        0.010152   \n",
       "thyroid_surgery_f                  0.037583       -0.037583   \n",
       "thyroid_surgery_t                 -0.037583        0.037583   \n",
       "goitre_f                          -0.010098        0.010098   \n",
       "goitre_t                           0.010098       -0.010098   \n",
       "lithium_f                         -0.002509        0.002509   \n",
       "lithium_t                          0.002509       -0.002509   \n",
       "tumor_f                           -0.029773        0.029773   \n",
       "tumor_t                            0.029773       -0.029773   \n",
       "hypopituitary_f                   -0.006099        0.006099   \n",
       "hypopituitary_t                    0.006099       -0.006099   \n",
       "psych_f                           -0.073571        0.073571   \n",
       "psych_t                            0.073571       -0.073571   \n",
       "\n",
       "                             on_antithyroid_medication_f  \\\n",
       "age                                             0.063882   \n",
       "Class                                           0.027427   \n",
       "sex_F                                          -0.035408   \n",
       "sex_M                                           0.027278   \n",
       "on_thyroxine_f                                 -0.002201   \n",
       "on_thyroxine_t                                  0.002201   \n",
       "on_antithyroid_medication_f                     1.000000   \n",
       "on_antithyroid_medication_t                    -1.000000   \n",
       "sick_f                                         -0.021624   \n",
       "sick_t                                          0.021624   \n",
       "pregnant_f                                      0.072050   \n",
       "pregnant_t                                     -0.072050   \n",
       "thyroid_surgery_f                              -0.012819   \n",
       "thyroid_surgery_t                               0.012819   \n",
       "goitre_f                                       -0.010241   \n",
       "goitre_t                                        0.010241   \n",
       "lithium_f                                      -0.007436   \n",
       "lithium_t                                       0.007436   \n",
       "tumor_f                                        -0.017353   \n",
       "tumor_t                                         0.017353   \n",
       "hypopituitary_f                                -0.001749   \n",
       "hypopituitary_t                                 0.001749   \n",
       "psych_f                                        -0.024318   \n",
       "psych_t                                         0.024318   \n",
       "\n",
       "                             on_antithyroid_medication_t    sick_f    sick_t  \\\n",
       "age                                            -0.063882 -0.079468  0.079468   \n",
       "Class                                          -0.027427 -0.091400  0.091400   \n",
       "sex_F                                           0.035408  0.001873 -0.001873   \n",
       "sex_M                                          -0.027278 -0.007438  0.007438   \n",
       "on_thyroxine_f                                  0.002201 -0.042053  0.042053   \n",
       "on_thyroxine_t                                 -0.002201  0.042053 -0.042053   \n",
       "on_antithyroid_medication_f                    -1.000000 -0.021624  0.021624   \n",
       "on_antithyroid_medication_t                     1.000000  0.021624 -0.021624   \n",
       "sick_f                                          0.021624  1.000000 -1.000000   \n",
       "sick_t                                         -0.021624 -1.000000  1.000000   \n",
       "pregnant_f                                     -0.072050 -0.024040  0.024040   \n",
       "pregnant_t                                      0.072050  0.024040 -0.024040   \n",
       "thyroid_surgery_f                               0.012819 -0.000762  0.000762   \n",
       "thyroid_surgery_t                              -0.012819  0.000762 -0.000762   \n",
       "goitre_f                                        0.010241 -0.019205  0.019205   \n",
       "goitre_t                                       -0.010241  0.019205 -0.019205   \n",
       "lithium_f                                       0.007436 -0.013944  0.013944   \n",
       "lithium_t                                      -0.007436  0.013944 -0.013944   \n",
       "tumor_f                                         0.017353  0.010949 -0.010949   \n",
       "tumor_t                                        -0.017353 -0.010949  0.010949   \n",
       "hypopituitary_f                                 0.001749 -0.003279  0.003279   \n",
       "hypopituitary_t                                -0.001749  0.003279 -0.003279   \n",
       "psych_f                                         0.024318 -0.032883  0.032883   \n",
       "psych_t                                        -0.024318  0.032883 -0.032883   \n",
       "\n",
       "                               ...     goitre_f  goitre_t  lithium_f  \\\n",
       "age                            ...     0.051830 -0.051830   0.030126   \n",
       "Class                          ...     0.000961 -0.000961   0.001642   \n",
       "sex_F                          ...     0.002094 -0.002094  -0.017554   \n",
       "sex_M                          ...    -0.010417  0.010417   0.012138   \n",
       "on_thyroxine_f                 ...    -0.010098  0.010098  -0.002509   \n",
       "on_thyroxine_t                 ...     0.010098 -0.010098   0.002509   \n",
       "on_antithyroid_medication_f    ...    -0.010241  0.010241  -0.007436   \n",
       "on_antithyroid_medication_t    ...     0.010241 -0.010241   0.007436   \n",
       "sick_f                         ...    -0.019205  0.019205  -0.013944   \n",
       "sick_t                         ...     0.019205 -0.019205   0.013944   \n",
       "pregnant_f                     ...     0.012447 -0.012447  -0.008266   \n",
       "pregnant_t                     ...    -0.012447  0.012447   0.008266   \n",
       "thyroid_surgery_f              ...    -0.011385  0.011385  -0.008266   \n",
       "thyroid_surgery_t              ...     0.011385 -0.011385   0.008266   \n",
       "goitre_f                       ...     1.000000 -1.000000  -0.006604   \n",
       "goitre_t                       ...    -1.000000  1.000000   0.006604   \n",
       "lithium_f                      ...    -0.006604  0.006604   1.000000   \n",
       "lithium_t                      ...     0.006604 -0.006604  -1.000000   \n",
       "tumor_f                        ...     0.002399 -0.002399  -0.011190   \n",
       "tumor_t                        ...    -0.002399  0.002399   0.011190   \n",
       "hypopituitary_f                ...    -0.001553  0.001553  -0.001128   \n",
       "hypopituitary_t                ...     0.001553 -0.001553   0.001128   \n",
       "psych_f                        ...    -0.008575  0.008575   0.037896   \n",
       "psych_t                        ...     0.008575 -0.008575  -0.037896   \n",
       "\n",
       "                             lithium_t   tumor_f   tumor_t  hypopituitary_f  \\\n",
       "age                          -0.030126  0.025037 -0.025037         0.024927   \n",
       "Class                        -0.001642  0.027234 -0.027234        -0.063757   \n",
       "sex_F                         0.017554 -0.077622  0.077622         0.022561   \n",
       "sex_M                        -0.012138  0.073514 -0.073514        -0.024712   \n",
       "on_thyroxine_f                0.002509 -0.029773  0.029773        -0.006099   \n",
       "on_thyroxine_t               -0.002509  0.029773 -0.029773         0.006099   \n",
       "on_antithyroid_medication_f   0.007436 -0.017353  0.017353        -0.001749   \n",
       "on_antithyroid_medication_t  -0.007436  0.017353 -0.017353         0.001749   \n",
       "sick_f                        0.013944  0.010949 -0.010949        -0.003279   \n",
       "sick_t                       -0.013944 -0.010949  0.010949         0.003279   \n",
       "pregnant_f                    0.008266  0.123728 -0.123728        -0.001944   \n",
       "pregnant_t                   -0.008266 -0.123728  0.123728         0.001944   \n",
       "thyroid_surgery_f             0.008266 -0.004990  0.004990        -0.001944   \n",
       "thyroid_surgery_t            -0.008266  0.004990 -0.004990         0.001944   \n",
       "goitre_f                      0.006604  0.002399 -0.002399        -0.001553   \n",
       "goitre_t                     -0.006604 -0.002399  0.002399         0.001553   \n",
       "lithium_f                    -1.000000 -0.011190  0.011190        -0.001128   \n",
       "lithium_t                     1.000000  0.011190 -0.011190         0.001128   \n",
       "tumor_f                       0.011190  1.000000 -1.000000        -0.002632   \n",
       "tumor_t                      -0.011190 -1.000000  1.000000         0.002632   \n",
       "hypopituitary_f               0.001128 -0.002632  0.002632         1.000000   \n",
       "hypopituitary_t              -0.001128  0.002632 -0.002632        -1.000000   \n",
       "psych_f                      -0.037896 -0.020966  0.020966        -0.003688   \n",
       "psych_t                       0.037896  0.020966 -0.020966         0.003688   \n",
       "\n",
       "                             hypopituitary_t   psych_f   psych_t  \n",
       "age                                -0.024927  0.100116 -0.100116  \n",
       "Class                               0.063757  0.021909 -0.021909  \n",
       "sex_F                              -0.022561  0.090708 -0.090708  \n",
       "sex_M                               0.024712 -0.099896  0.099896  \n",
       "on_thyroxine_f                      0.006099 -0.073571  0.073571  \n",
       "on_thyroxine_t                     -0.006099  0.073571 -0.073571  \n",
       "on_antithyroid_medication_f         0.001749 -0.024318  0.024318  \n",
       "on_antithyroid_medication_t        -0.001749  0.024318 -0.024318  \n",
       "sick_f                              0.003279 -0.032883  0.032883  \n",
       "sick_t                             -0.003279  0.032883 -0.032883  \n",
       "pregnant_f                          0.001944 -0.016577  0.016577  \n",
       "pregnant_t                         -0.001944  0.016577 -0.016577  \n",
       "thyroid_surgery_f                   0.001944 -0.027034  0.027034  \n",
       "thyroid_surgery_t                  -0.001944  0.027034 -0.027034  \n",
       "goitre_f                            0.001553 -0.008575  0.008575  \n",
       "goitre_t                           -0.001553  0.008575 -0.008575  \n",
       "lithium_f                           0.001128  0.037896 -0.037896  \n",
       "lithium_t                          -0.001128 -0.037896  0.037896  \n",
       "tumor_f                             0.002632 -0.020966  0.020966  \n",
       "tumor_t                            -0.002632  0.020966 -0.020966  \n",
       "hypopituitary_f                    -1.000000 -0.003688  0.003688  \n",
       "hypopituitary_t                     1.000000  0.003688 -0.003688  \n",
       "psych_f                             0.003688  1.000000 -1.000000  \n",
       "psych_t                            -0.003688 -1.000000  1.000000  \n",
       "\n",
       "[24 rows x 24 columns]"
      ]
     },
     "execution_count": 15,
     "metadata": {},
     "output_type": "execute_result"
    }
   ],
   "source": [
    "df.corr()"
   ]
  },
  {
   "cell_type": "code",
   "execution_count": 16,
   "metadata": {},
   "outputs": [
    {
     "data": {
      "image/png": "[encoded data removed]",
      "text/plain": [
       "<matplotlib.figure.Figure at 0x9a16011ef0>"
      ]
     },
     "metadata": {},
     "output_type": "display_data"
    }
   ],
   "source": [
    "f, ax = plt.subplots(figsize=(18, 10))\n",
    "sns.heatmap(df.corr(),linewidths=2.0, ax= ax , annot=True)\n",
    "ax.set_title('Correlation Matrix')\n",
    "plt.savefig('first_correlation.png')"
   ]
  },
  {
   "cell_type": "code",
   "execution_count": 17,
   "metadata": {},
   "outputs": [
    {
     "name": "stdout",
     "output_type": "stream",
     "text": [
      "<class 'pandas.core.frame.DataFrame'>\n",
      "RangeIndex: 3772 entries, 0 to 3771\n",
      "Data columns (total 29 columns):\n",
      "age                            3771 non-null float64\n",
      "TSH                            3772 non-null object\n",
      "T3                             3772 non-null object\n",
      "TT4                            3772 non-null object\n",
      "T4U                            3772 non-null object\n",
      "FTI                            3772 non-null object\n",
      "Class                          3772 non-null int8\n",
      "sex_F                          3772 non-null uint8\n",
      "sex_M                          3772 non-null uint8\n",
      "on_thyroxine_f                 3772 non-null uint8\n",
      "on_thyroxine_t                 3772 non-null uint8\n",
      "on_antithyroid_medication_f    3772 non-null uint8\n",
      "on_antithyroid_medication_t    3772 non-null uint8\n",
      "sick_f                         3772 non-null uint8\n",
      "sick_t                         3772 non-null uint8\n",
      "pregnant_f                     3772 non-null uint8\n",
      "pregnant_t                     3772 non-null uint8\n",
      "thyroid_surgery_f              3772 non-null uint8\n",
      "thyroid_surgery_t              3772 non-null uint8\n",
      "goitre_f                       3772 non-null uint8\n",
      "goitre_t                       3772 non-null uint8\n",
      "lithium_f                      3772 non-null uint8\n",
      "lithium_t                      3772 non-null uint8\n",
      "tumor_f                        3772 non-null uint8\n",
      "tumor_t                        3772 non-null uint8\n",
      "hypopituitary_f                3772 non-null uint8\n",
      "hypopituitary_t                3772 non-null uint8\n",
      "psych_f                        3772 non-null uint8\n",
      "psych_t                        3772 non-null uint8\n",
      "dtypes: float64(1), int8(1), object(5), uint8(22)\n",
      "memory usage: 261.6+ KB\n"
     ]
    }
   ],
   "source": [
    "df.info()"
   ]
  },
  {
   "cell_type": "markdown",
   "metadata": {},
   "source": [
    "#### Replace missing values and convert object datatypes to numeric data types"
   ]
  },
  {
   "cell_type": "code",
   "execution_count": 18,
   "metadata": {},
   "outputs": [],
   "source": [
    "df['TSH'] = df['TSH'].replace('?', np.nan)\n",
    "df['TSH'] = df.TSH.astype(str).astype(float)\n",
    "TSH_median = df['TSH'].median()\n",
    "df['TSH'] = df['TSH'].replace(np.nan, TSH_median)"
   ]
  },
  {
   "cell_type": "code",
   "execution_count": 17,
   "metadata": {},
   "outputs": [],
   "source": [
    "data['TSH'] = data['TSH'].replace('?', np.nan)\n",
    "data['TSH'] = data.TSH.astype(str).astype(float)\n",
    "TSH_median = data['TSH'].median()\n",
    "data['TSH'] = data['TSH'].replace(np.nan, TSH_median)"
   ]
  },
  {
   "cell_type": "code",
   "execution_count": 19,
   "metadata": {},
   "outputs": [
    {
     "data": {
      "text/plain": [
       "0"
      ]
     },
     "execution_count": 19,
     "metadata": {},
     "output_type": "execute_result"
    }
   ],
   "source": [
    "df['T3'] = df['T3'].replace('?', np.nan)\n",
    "df['T3'] = df.T3.astype(str).astype(float)\n",
    "T3_median = df['T3'].median()\n",
    "df['T3'] = df['T3'].replace(np.nan, T3_median)\n",
    "df['T3'].isnull().sum()"
   ]
  },
  {
   "cell_type": "code",
   "execution_count": 18,
   "metadata": {},
   "outputs": [],
   "source": [
    "data['T3'] = data['T3'].replace('?', np.nan)\n",
    "data['T3'] = data.T3.astype(str).astype(float)\n",
    "T3_median = data['T3'].median()\n",
    "data['T3'] = data['T3'].replace(np.nan, T3_median)"
   ]
  },
  {
   "cell_type": "code",
   "execution_count": 20,
   "metadata": {},
   "outputs": [
    {
     "data": {
      "text/plain": [
       "0"
      ]
     },
     "execution_count": 20,
     "metadata": {},
     "output_type": "execute_result"
    }
   ],
   "source": [
    "df['TT4'] = df['TT4'].replace('?', np.nan)\n",
    "df['TT4'] = df.TT4.astype(str).astype(float)\n",
    "TT4_median = df['TT4'].median()\n",
    "df['TT4'] = df['TT4'].replace(np.nan, TT4_median)\n",
    "df['TT4'].isnull().sum()"
   ]
  },
  {
   "cell_type": "code",
   "execution_count": 19,
   "metadata": {},
   "outputs": [
    {
     "data": {
      "text/plain": [
       "0"
      ]
     },
     "execution_count": 19,
     "metadata": {},
     "output_type": "execute_result"
    }
   ],
   "source": [
    "data['TT4'] = data['TT4'].replace('?', np.nan)\n",
    "data['TT4'] = data.TT4.astype(str).astype(float)\n",
    "TT4_median = data['TT4'].median()\n",
    "data['TT4'] = data['TT4'].replace(np.nan, TT4_median)\n",
    "data['TT4'].isnull().sum()"
   ]
  },
  {
   "cell_type": "code",
   "execution_count": 21,
   "metadata": {},
   "outputs": [
    {
     "data": {
      "text/plain": [
       "0"
      ]
     },
     "execution_count": 21,
     "metadata": {},
     "output_type": "execute_result"
    }
   ],
   "source": [
    "df['T4U'] = df['T4U'].replace('?', np.nan)\n",
    "df['T4U'] = df.T4U.astype(str).astype(float)\n",
    "T4U_median = df['T4U'].median()\n",
    "df['T4U'] = df['T4U'].replace(np.nan, T4U_median)\n",
    "df['T4U'].isnull().sum()"
   ]
  },
  {
   "cell_type": "code",
   "execution_count": 20,
   "metadata": {},
   "outputs": [
    {
     "data": {
      "text/plain": [
       "0"
      ]
     },
     "execution_count": 20,
     "metadata": {},
     "output_type": "execute_result"
    }
   ],
   "source": [
    "data['T4U'] = data['T4U'].replace('?', np.nan)\n",
    "data['T4U'] = data.T4U.astype(str).astype(float)\n",
    "T4U_median = data['T4U'].median()\n",
    "data['T4U'] = data['T4U'].replace(np.nan, T4U_median)\n",
    "data['T4U'].isnull().sum()"
   ]
  },
  {
   "cell_type": "code",
   "execution_count": 22,
   "metadata": {},
   "outputs": [
    {
     "data": {
      "text/plain": [
       "0"
      ]
     },
     "execution_count": 22,
     "metadata": {},
     "output_type": "execute_result"
    }
   ],
   "source": [
    "df['FTI'] = df['FTI'].replace('?', np.nan)\n",
    "df['FTI'] = df.FTI.astype(str).astype(float)\n",
    "FTI_median = df['FTI'].median()\n",
    "df['FTI'] = df['FTI'].replace(np.nan, FTI_median)\n",
    "df['FTI'].isnull().sum()"
   ]
  },
  {
   "cell_type": "code",
   "execution_count": 21,
   "metadata": {},
   "outputs": [
    {
     "data": {
      "text/plain": [
       "0"
      ]
     },
     "execution_count": 21,
     "metadata": {},
     "output_type": "execute_result"
    }
   ],
   "source": [
    "data['FTI'] = data['FTI'].replace('?', np.nan)\n",
    "data['FTI'] = data.FTI.astype(str).astype(float)\n",
    "FTI_median = data['FTI'].median()\n",
    "data['FTI'] = data['FTI'].replace(np.nan, FTI_median)\n",
    "data['FTI'].isnull().sum()"
   ]
  },
  {
   "cell_type": "code",
   "execution_count": 32,
   "metadata": {},
   "outputs": [],
   "source": [
    "data = data[['age', 'sex', 'on_thyroxine','on_antithyroid_medication', 'sick', 'pregnant',\n",
    "         'lithium', 'goitre', 'tumor', 'thyroid_surgery', 'hypopituitary', 'psych', 'TSH', 'T3',\n",
    "           'TT4', 'T4U', 'FTI', 'Class']]"
   ]
  },
  {
   "cell_type": "code",
   "execution_count": 33,
   "metadata": {},
   "outputs": [],
   "source": [
    "data = data.dropna()"
   ]
  },
  {
   "cell_type": "code",
   "execution_count": 34,
   "metadata": {},
   "outputs": [
    {
     "data": {
      "text/plain": [
       "age                          0\n",
       "sex                          0\n",
       "on_thyroxine                 0\n",
       "on_antithyroid_medication    0\n",
       "sick                         0\n",
       "pregnant                     0\n",
       "lithium                      0\n",
       "goitre                       0\n",
       "tumor                        0\n",
       "thyroid_surgery              0\n",
       "hypopituitary                0\n",
       "psych                        0\n",
       "TSH                          0\n",
       "T3                           0\n",
       "TT4                          0\n",
       "T4U                          0\n",
       "FTI                          0\n",
       "Class                        0\n",
       "dtype: int64"
      ]
     },
     "execution_count": 34,
     "metadata": {},
     "output_type": "execute_result"
    }
   ],
   "source": [
    "data.isnull().sum()"
   ]
  },
  {
   "cell_type": "code",
   "execution_count": 19,
   "metadata": {},
   "outputs": [
    {
     "name": "stdout",
     "output_type": "stream",
     "text": [
      "<class 'pandas.core.frame.DataFrame'>\n",
      "Int64Index: 3771 entries, 0 to 3771\n",
      "Data columns (total 18 columns):\n",
      "age                          3771 non-null float64\n",
      "sex                          3771 non-null int8\n",
      "on_thyroxine                 3771 non-null int8\n",
      "on_antithyroid_medication    3771 non-null category\n",
      "sick                         3771 non-null int8\n",
      "pregnant                     3771 non-null int8\n",
      "lithium                      3771 non-null int8\n",
      "goitre                       3771 non-null int8\n",
      "tumor                        3771 non-null int8\n",
      "thyroid_surgery              3771 non-null int8\n",
      "hypopituitary                3771 non-null int8\n",
      "psych                        3771 non-null int8\n",
      "TSH                          3771 non-null float64\n",
      "T3                           3771 non-null float64\n",
      "TT4                          3771 non-null float64\n",
      "T4U                          3771 non-null float64\n",
      "FTI                          3771 non-null float64\n",
      "Class                        3771 non-null category\n",
      "dtypes: category(2), float64(6), int8(10)\n",
      "memory usage: 250.4 KB\n"
     ]
    }
   ],
   "source": [
    "data.info()"
   ]
  },
  {
   "cell_type": "code",
   "execution_count": 35,
   "metadata": {},
   "outputs": [
    {
     "ename": "AttributeError",
     "evalue": "Can only use .cat accessor with a 'category' dtype",
     "output_type": "error",
     "traceback": [
      "\u001b[1;31m---------------------------------------------------------------------------\u001b[0m",
      "\u001b[1;31mAttributeError\u001b[0m                            Traceback (most recent call last)",
      "\u001b[1;32m<ipython-input-35-2f59931efc5d>\u001b[0m in \u001b[0;36m<module>\u001b[1;34m()\u001b[0m\n\u001b[1;32m----> 1\u001b[1;33m \u001b[0mdata\u001b[0m\u001b[1;33m[\u001b[0m\u001b[1;34m'Class'\u001b[0m\u001b[1;33m]\u001b[0m \u001b[1;33m=\u001b[0m \u001b[0mdata\u001b[0m\u001b[1;33m.\u001b[0m\u001b[0mClass\u001b[0m\u001b[1;33m.\u001b[0m\u001b[0mcat\u001b[0m\u001b[1;33m.\u001b[0m\u001b[0mcodes\u001b[0m\u001b[1;33m\u001b[0m\u001b[0m\n\u001b[0m",
      "\u001b[1;32mc:\\users\\abayomi\\appdata\\local\\programs\\python\\python35\\lib\\site-packages\\pandas\\core\\generic.py\u001b[0m in \u001b[0;36m__getattr__\u001b[1;34m(self, name)\u001b[0m\n\u001b[0;32m   2738\u001b[0m         if (name in self._internal_names_set or name in self._metadata or\n\u001b[0;32m   2739\u001b[0m                 name in self._accessors):\n\u001b[1;32m-> 2740\u001b[1;33m             \u001b[1;32mreturn\u001b[0m \u001b[0mobject\u001b[0m\u001b[1;33m.\u001b[0m\u001b[0m__getattribute__\u001b[0m\u001b[1;33m(\u001b[0m\u001b[0mself\u001b[0m\u001b[1;33m,\u001b[0m \u001b[0mname\u001b[0m\u001b[1;33m)\u001b[0m\u001b[1;33m\u001b[0m\u001b[0m\n\u001b[0m\u001b[0;32m   2741\u001b[0m         \u001b[1;32melse\u001b[0m\u001b[1;33m:\u001b[0m\u001b[1;33m\u001b[0m\u001b[0m\n\u001b[0;32m   2742\u001b[0m             \u001b[1;32mif\u001b[0m \u001b[0mname\u001b[0m \u001b[1;32min\u001b[0m \u001b[0mself\u001b[0m\u001b[1;33m.\u001b[0m\u001b[0m_info_axis\u001b[0m\u001b[1;33m:\u001b[0m\u001b[1;33m\u001b[0m\u001b[0m\n",
      "\u001b[1;32mc:\\users\\abayomi\\appdata\\local\\programs\\python\\python35\\lib\\site-packages\\pandas\\core\\base.py\u001b[0m in \u001b[0;36m__get__\u001b[1;34m(self, instance, owner)\u001b[0m\n\u001b[0;32m    239\u001b[0m             \u001b[1;31m# this ensures that Series.str.<method> is well defined\u001b[0m\u001b[1;33m\u001b[0m\u001b[1;33m\u001b[0m\u001b[0m\n\u001b[0;32m    240\u001b[0m             \u001b[1;32mreturn\u001b[0m \u001b[0mself\u001b[0m\u001b[1;33m.\u001b[0m\u001b[0maccessor_cls\u001b[0m\u001b[1;33m\u001b[0m\u001b[0m\n\u001b[1;32m--> 241\u001b[1;33m         \u001b[1;32mreturn\u001b[0m \u001b[0mself\u001b[0m\u001b[1;33m.\u001b[0m\u001b[0mconstruct_accessor\u001b[0m\u001b[1;33m(\u001b[0m\u001b[0minstance\u001b[0m\u001b[1;33m)\u001b[0m\u001b[1;33m\u001b[0m\u001b[0m\n\u001b[0m\u001b[0;32m    242\u001b[0m \u001b[1;33m\u001b[0m\u001b[0m\n\u001b[0;32m    243\u001b[0m     \u001b[1;32mdef\u001b[0m \u001b[0m__set__\u001b[0m\u001b[1;33m(\u001b[0m\u001b[0mself\u001b[0m\u001b[1;33m,\u001b[0m \u001b[0minstance\u001b[0m\u001b[1;33m,\u001b[0m \u001b[0mvalue\u001b[0m\u001b[1;33m)\u001b[0m\u001b[1;33m:\u001b[0m\u001b[1;33m\u001b[0m\u001b[0m\n",
      "\u001b[1;32mc:\\users\\abayomi\\appdata\\local\\programs\\python\\python35\\lib\\site-packages\\pandas\\core\\series.py\u001b[0m in \u001b[0;36m_make_cat_accessor\u001b[1;34m(self)\u001b[0m\n\u001b[0;32m   2752\u001b[0m     \u001b[1;32mdef\u001b[0m \u001b[0m_make_cat_accessor\u001b[0m\u001b[1;33m(\u001b[0m\u001b[0mself\u001b[0m\u001b[1;33m)\u001b[0m\u001b[1;33m:\u001b[0m\u001b[1;33m\u001b[0m\u001b[0m\n\u001b[0;32m   2753\u001b[0m         \u001b[1;32mif\u001b[0m \u001b[1;32mnot\u001b[0m \u001b[0mis_categorical_dtype\u001b[0m\u001b[1;33m(\u001b[0m\u001b[0mself\u001b[0m\u001b[1;33m.\u001b[0m\u001b[0mdtype\u001b[0m\u001b[1;33m)\u001b[0m\u001b[1;33m:\u001b[0m\u001b[1;33m\u001b[0m\u001b[0m\n\u001b[1;32m-> 2754\u001b[1;33m             raise AttributeError(\"Can only use .cat accessor with a \"\n\u001b[0m\u001b[0;32m   2755\u001b[0m                                  \"'category' dtype\")\n\u001b[0;32m   2756\u001b[0m         \u001b[1;32mreturn\u001b[0m \u001b[0mCategoricalAccessor\u001b[0m\u001b[1;33m(\u001b[0m\u001b[0mself\u001b[0m\u001b[1;33m.\u001b[0m\u001b[0mvalues\u001b[0m\u001b[1;33m,\u001b[0m \u001b[0mself\u001b[0m\u001b[1;33m.\u001b[0m\u001b[0mindex\u001b[0m\u001b[1;33m)\u001b[0m\u001b[1;33m\u001b[0m\u001b[0m\n",
      "\u001b[1;31mAttributeError\u001b[0m: Can only use .cat accessor with a 'category' dtype"
     ]
    }
   ],
   "source": [
    "data['Class'] = data.Class.cat.codes"
   ]
  },
  {
   "cell_type": "code",
   "execution_count": 36,
   "metadata": {},
   "outputs": [
    {
     "ename": "AttributeError",
     "evalue": "Can only use .cat accessor with a 'category' dtype",
     "output_type": "error",
     "traceback": [
      "\u001b[1;31m---------------------------------------------------------------------------\u001b[0m",
      "\u001b[1;31mAttributeError\u001b[0m                            Traceback (most recent call last)",
      "\u001b[1;32m<ipython-input-36-155a359b3f24>\u001b[0m in \u001b[0;36m<module>\u001b[1;34m()\u001b[0m\n\u001b[1;32m----> 1\u001b[1;33m \u001b[0mdata\u001b[0m\u001b[1;33m[\u001b[0m\u001b[1;34m'on_antithyroid_medication'\u001b[0m\u001b[1;33m]\u001b[0m \u001b[1;33m=\u001b[0m \u001b[0mdata\u001b[0m\u001b[1;33m.\u001b[0m\u001b[0mon_antithyroid_medication\u001b[0m\u001b[1;33m.\u001b[0m\u001b[0mcat\u001b[0m\u001b[1;33m.\u001b[0m\u001b[0mcodes\u001b[0m\u001b[1;33m\u001b[0m\u001b[0m\n\u001b[0m",
      "\u001b[1;32mc:\\users\\abayomi\\appdata\\local\\programs\\python\\python35\\lib\\site-packages\\pandas\\core\\generic.py\u001b[0m in \u001b[0;36m__getattr__\u001b[1;34m(self, name)\u001b[0m\n\u001b[0;32m   2738\u001b[0m         if (name in self._internal_names_set or name in self._metadata or\n\u001b[0;32m   2739\u001b[0m                 name in self._accessors):\n\u001b[1;32m-> 2740\u001b[1;33m             \u001b[1;32mreturn\u001b[0m \u001b[0mobject\u001b[0m\u001b[1;33m.\u001b[0m\u001b[0m__getattribute__\u001b[0m\u001b[1;33m(\u001b[0m\u001b[0mself\u001b[0m\u001b[1;33m,\u001b[0m \u001b[0mname\u001b[0m\u001b[1;33m)\u001b[0m\u001b[1;33m\u001b[0m\u001b[0m\n\u001b[0m\u001b[0;32m   2741\u001b[0m         \u001b[1;32melse\u001b[0m\u001b[1;33m:\u001b[0m\u001b[1;33m\u001b[0m\u001b[0m\n\u001b[0;32m   2742\u001b[0m             \u001b[1;32mif\u001b[0m \u001b[0mname\u001b[0m \u001b[1;32min\u001b[0m \u001b[0mself\u001b[0m\u001b[1;33m.\u001b[0m\u001b[0m_info_axis\u001b[0m\u001b[1;33m:\u001b[0m\u001b[1;33m\u001b[0m\u001b[0m\n",
      "\u001b[1;32mc:\\users\\abayomi\\appdata\\local\\programs\\python\\python35\\lib\\site-packages\\pandas\\core\\base.py\u001b[0m in \u001b[0;36m__get__\u001b[1;34m(self, instance, owner)\u001b[0m\n\u001b[0;32m    239\u001b[0m             \u001b[1;31m# this ensures that Series.str.<method> is well defined\u001b[0m\u001b[1;33m\u001b[0m\u001b[1;33m\u001b[0m\u001b[0m\n\u001b[0;32m    240\u001b[0m             \u001b[1;32mreturn\u001b[0m \u001b[0mself\u001b[0m\u001b[1;33m.\u001b[0m\u001b[0maccessor_cls\u001b[0m\u001b[1;33m\u001b[0m\u001b[0m\n\u001b[1;32m--> 241\u001b[1;33m         \u001b[1;32mreturn\u001b[0m \u001b[0mself\u001b[0m\u001b[1;33m.\u001b[0m\u001b[0mconstruct_accessor\u001b[0m\u001b[1;33m(\u001b[0m\u001b[0minstance\u001b[0m\u001b[1;33m)\u001b[0m\u001b[1;33m\u001b[0m\u001b[0m\n\u001b[0m\u001b[0;32m    242\u001b[0m \u001b[1;33m\u001b[0m\u001b[0m\n\u001b[0;32m    243\u001b[0m     \u001b[1;32mdef\u001b[0m \u001b[0m__set__\u001b[0m\u001b[1;33m(\u001b[0m\u001b[0mself\u001b[0m\u001b[1;33m,\u001b[0m \u001b[0minstance\u001b[0m\u001b[1;33m,\u001b[0m \u001b[0mvalue\u001b[0m\u001b[1;33m)\u001b[0m\u001b[1;33m:\u001b[0m\u001b[1;33m\u001b[0m\u001b[0m\n",
      "\u001b[1;32mc:\\users\\abayomi\\appdata\\local\\programs\\python\\python35\\lib\\site-packages\\pandas\\core\\series.py\u001b[0m in \u001b[0;36m_make_cat_accessor\u001b[1;34m(self)\u001b[0m\n\u001b[0;32m   2752\u001b[0m     \u001b[1;32mdef\u001b[0m \u001b[0m_make_cat_accessor\u001b[0m\u001b[1;33m(\u001b[0m\u001b[0mself\u001b[0m\u001b[1;33m)\u001b[0m\u001b[1;33m:\u001b[0m\u001b[1;33m\u001b[0m\u001b[0m\n\u001b[0;32m   2753\u001b[0m         \u001b[1;32mif\u001b[0m \u001b[1;32mnot\u001b[0m \u001b[0mis_categorical_dtype\u001b[0m\u001b[1;33m(\u001b[0m\u001b[0mself\u001b[0m\u001b[1;33m.\u001b[0m\u001b[0mdtype\u001b[0m\u001b[1;33m)\u001b[0m\u001b[1;33m:\u001b[0m\u001b[1;33m\u001b[0m\u001b[0m\n\u001b[1;32m-> 2754\u001b[1;33m             raise AttributeError(\"Can only use .cat accessor with a \"\n\u001b[0m\u001b[0;32m   2755\u001b[0m                                  \"'category' dtype\")\n\u001b[0;32m   2756\u001b[0m         \u001b[1;32mreturn\u001b[0m \u001b[0mCategoricalAccessor\u001b[0m\u001b[1;33m(\u001b[0m\u001b[0mself\u001b[0m\u001b[1;33m.\u001b[0m\u001b[0mvalues\u001b[0m\u001b[1;33m,\u001b[0m \u001b[0mself\u001b[0m\u001b[1;33m.\u001b[0m\u001b[0mindex\u001b[0m\u001b[1;33m)\u001b[0m\u001b[1;33m\u001b[0m\u001b[0m\n",
      "\u001b[1;31mAttributeError\u001b[0m: Can only use .cat accessor with a 'category' dtype"
     ]
    }
   ],
   "source": [
    "data['on_antithyroid_medication'] = data.on_antithyroid_medication.cat.codes"
   ]
  },
  {
   "cell_type": "code",
   "execution_count": 23,
   "metadata": {},
   "outputs": [],
   "source": [
    "from pandas.api.types import is_numeric_dtype\n"
   ]
  },
  {
   "cell_type": "markdown",
   "metadata": {},
   "source": [
    "#### Remove outliers from the dataset"
   ]
  },
  {
   "cell_type": "code",
   "execution_count": 27,
   "metadata": {},
   "outputs": [
    {
     "data": {
      "image/png": "[encoded data removed]",
      "text/plain": [
       "<matplotlib.figure.Figure at 0x228b8fd908>"
      ]
     },
     "metadata": {},
     "output_type": "display_data"
    }
   ],
   "source": [
    "age_filt = data[data['age']<100]\n",
    "ax = sns.boxplot(x = age_filt['age'] )\n",
    "plt.savefig(\"age_filt.png\", format='png', dpi=300)"
   ]
  },
  {
   "cell_type": "code",
   "execution_count": 30,
   "metadata": {},
   "outputs": [],
   "source": [
    "data['age'] = age_filt\n",
    "data['age'].dropna(inplace = True)\n",
    "data['age'] = data['age'].astype('int')"
   ]
  },
  {
   "cell_type": "code",
   "execution_count": 39,
   "metadata": {},
   "outputs": [
    {
     "data": {
      "text/html": [
       "<div>\n",
       "<table border=\"1\" class=\"dataframe\">\n",
       "  <thead>\n",
       "    <tr style=\"text-align: right;\">\n",
       "      <th></th>\n",
       "      <th>age</th>\n",
       "      <th>sex</th>\n",
       "      <th>on_thyroxine</th>\n",
       "      <th>on_antithyroid_medication</th>\n",
       "      <th>sick</th>\n",
       "      <th>pregnant</th>\n",
       "      <th>lithium</th>\n",
       "      <th>goitre</th>\n",
       "      <th>tumor</th>\n",
       "      <th>thyroid_surgery</th>\n",
       "      <th>hypopituitary</th>\n",
       "      <th>psych</th>\n",
       "      <th>TSH</th>\n",
       "      <th>T3</th>\n",
       "      <th>TT4</th>\n",
       "      <th>T4U</th>\n",
       "      <th>FTI</th>\n",
       "      <th>Class</th>\n",
       "    </tr>\n",
       "  </thead>\n",
       "  <tbody>\n",
       "    <tr>\n",
       "      <th>0</th>\n",
       "      <td>41.0</td>\n",
       "      <td>1</td>\n",
       "      <td>0</td>\n",
       "      <td>0</td>\n",
       "      <td>0</td>\n",
       "      <td>0</td>\n",
       "      <td>0</td>\n",
       "      <td>0</td>\n",
       "      <td>0</td>\n",
       "      <td>0</td>\n",
       "      <td>0</td>\n",
       "      <td>0</td>\n",
       "      <td>1.30</td>\n",
       "      <td>2.5</td>\n",
       "      <td>125.0</td>\n",
       "      <td>1.14</td>\n",
       "      <td>109.0</td>\n",
       "      <td>0</td>\n",
       "    </tr>\n",
       "    <tr>\n",
       "      <th>1</th>\n",
       "      <td>23.0</td>\n",
       "      <td>1</td>\n",
       "      <td>0</td>\n",
       "      <td>0</td>\n",
       "      <td>0</td>\n",
       "      <td>0</td>\n",
       "      <td>0</td>\n",
       "      <td>0</td>\n",
       "      <td>0</td>\n",
       "      <td>0</td>\n",
       "      <td>0</td>\n",
       "      <td>0</td>\n",
       "      <td>4.10</td>\n",
       "      <td>2.0</td>\n",
       "      <td>102.0</td>\n",
       "      <td>0.98</td>\n",
       "      <td>107.0</td>\n",
       "      <td>0</td>\n",
       "    </tr>\n",
       "    <tr>\n",
       "      <th>2</th>\n",
       "      <td>46.0</td>\n",
       "      <td>2</td>\n",
       "      <td>0</td>\n",
       "      <td>0</td>\n",
       "      <td>0</td>\n",
       "      <td>0</td>\n",
       "      <td>0</td>\n",
       "      <td>0</td>\n",
       "      <td>0</td>\n",
       "      <td>0</td>\n",
       "      <td>0</td>\n",
       "      <td>0</td>\n",
       "      <td>0.98</td>\n",
       "      <td>2.0</td>\n",
       "      <td>109.0</td>\n",
       "      <td>0.91</td>\n",
       "      <td>120.0</td>\n",
       "      <td>0</td>\n",
       "    </tr>\n",
       "    <tr>\n",
       "      <th>3</th>\n",
       "      <td>70.0</td>\n",
       "      <td>1</td>\n",
       "      <td>1</td>\n",
       "      <td>0</td>\n",
       "      <td>0</td>\n",
       "      <td>0</td>\n",
       "      <td>0</td>\n",
       "      <td>0</td>\n",
       "      <td>0</td>\n",
       "      <td>0</td>\n",
       "      <td>0</td>\n",
       "      <td>0</td>\n",
       "      <td>0.16</td>\n",
       "      <td>1.9</td>\n",
       "      <td>175.0</td>\n",
       "      <td>0.98</td>\n",
       "      <td>107.0</td>\n",
       "      <td>0</td>\n",
       "    </tr>\n",
       "    <tr>\n",
       "      <th>4</th>\n",
       "      <td>70.0</td>\n",
       "      <td>1</td>\n",
       "      <td>0</td>\n",
       "      <td>0</td>\n",
       "      <td>0</td>\n",
       "      <td>0</td>\n",
       "      <td>0</td>\n",
       "      <td>0</td>\n",
       "      <td>0</td>\n",
       "      <td>0</td>\n",
       "      <td>0</td>\n",
       "      <td>0</td>\n",
       "      <td>0.72</td>\n",
       "      <td>1.2</td>\n",
       "      <td>61.0</td>\n",
       "      <td>0.87</td>\n",
       "      <td>70.0</td>\n",
       "      <td>0</td>\n",
       "    </tr>\n",
       "  </tbody>\n",
       "</table>\n",
       "</div>"
      ],
      "text/plain": [
       "    age  sex  on_thyroxine  on_antithyroid_medication  sick  pregnant  \\\n",
       "0  41.0    1             0                          0     0         0   \n",
       "1  23.0    1             0                          0     0         0   \n",
       "2  46.0    2             0                          0     0         0   \n",
       "3  70.0    1             1                          0     0         0   \n",
       "4  70.0    1             0                          0     0         0   \n",
       "\n",
       "   lithium  goitre  tumor  thyroid_surgery  hypopituitary  psych   TSH   T3  \\\n",
       "0        0       0      0                0              0      0  1.30  2.5   \n",
       "1        0       0      0                0              0      0  4.10  2.0   \n",
       "2        0       0      0                0              0      0  0.98  2.0   \n",
       "3        0       0      0                0              0      0  0.16  1.9   \n",
       "4        0       0      0                0              0      0  0.72  1.2   \n",
       "\n",
       "     TT4   T4U    FTI  Class  \n",
       "0  125.0  1.14  109.0      0  \n",
       "1  102.0  0.98  107.0      0  \n",
       "2  109.0  0.91  120.0      0  \n",
       "3  175.0  0.98  107.0      0  \n",
       "4   61.0  0.87   70.0      0  "
      ]
     },
     "execution_count": 39,
     "metadata": {},
     "output_type": "execute_result"
    }
   ],
   "source": [
    "data = data.dropna()\n",
    "data.head()"
   ]
  },
  {
   "cell_type": "code",
   "execution_count": 28,
   "metadata": {},
   "outputs": [],
   "source": [
    "#ax = sns.boxplot(x = df[\"TSH\"])"
   ]
  },
  {
   "cell_type": "code",
   "execution_count": 29,
   "metadata": {},
   "outputs": [
    {
     "data": {
      "text/plain": [
       "'\\nTSH_filt = df[df[\\'TSH\\']< 10]\\nax = sns.boxplot(x = TSH_filt[\\'TSH\\'] )\\nplt.savefig(\"TSH_filt.png\", format=\\'png\\', dpi=300)\\n\\n'"
      ]
     },
     "execution_count": 29,
     "metadata": {},
     "output_type": "execute_result"
    }
   ],
   "source": [
    "\"\"\"\n",
    "TSH_filt = df[df['TSH']< 10]\n",
    "ax = sns.boxplot(x = TSH_filt['TSH'] )\n",
    "plt.savefig(\"TSH_filt.png\", format='png', dpi=300)\n",
    "\n",
    "\"\"\""
   ]
  },
  {
   "cell_type": "code",
   "execution_count": 30,
   "metadata": {},
   "outputs": [
    {
     "data": {
      "text/plain": [
       "\"\\ndf['TSH'] = TSH_filt\\ndf['TSH'].dropna(inplace = True)\\ndf['TSH'].unique()\\n\""
      ]
     },
     "execution_count": 30,
     "metadata": {},
     "output_type": "execute_result"
    }
   ],
   "source": [
    "\"\"\"\n",
    "df['TSH'] = TSH_filt\n",
    "df['TSH'].dropna(inplace = True)\n",
    "df['TSH'].unique()\n",
    "\"\"\""
   ]
  },
  {
   "cell_type": "code",
   "execution_count": 38,
   "metadata": {},
   "outputs": [
    {
     "data": {
      "text/plain": [
       "<matplotlib.axes._subplots.AxesSubplot at 0x9a13775c18>"
      ]
     },
     "execution_count": 38,
     "metadata": {},
     "output_type": "execute_result"
    },
    {
     "data": {
      "image/png": "[encoded data removed]",
      "text/plain": [
       "<matplotlib.figure.Figure at 0x9a13478978>"
      ]
     },
     "metadata": {},
     "output_type": "display_data"
    }
   ],
   "source": [
    "df['TT4'] = TT4_filt\n",
    "sns.set_style('whitegrid')\n",
    "plt.figure(figsize = (12,10))\n",
    "sns.countplot(x = 'Class', hue = 'TT4', data = df, palette = 'RdBu_r')"
   ]
  },
  {
   "cell_type": "code",
   "execution_count": 50,
   "metadata": {},
   "outputs": [
    {
     "data": {
      "image/png": "[encoded data removed]",
      "text/plain": [
       "<matplotlib.figure.Figure at 0x9a47861d30>"
      ]
     },
     "metadata": {},
     "output_type": "display_data"
    }
   ],
   "source": [
    "df.plot(kind=\"scatter\", x=\"TSH\", y=\"TT4\",\n",
    "    s=df['age'], label=\"age\", \n",
    "    c=\"Class\", cmap=plt.get_cmap(\"viridis\"),\n",
    "    colorbar=True, alpha=0.4, figsize=(10,7),\n",
    ")\n",
    "plt.legend()\n",
    "#plt.savefig(\"scatter1.png\",format='png', dpi=300)\n",
    "plt.show()"
   ]
  },
  {
   "cell_type": "code",
   "execution_count": 40,
   "metadata": {},
   "outputs": [],
   "source": [
    "Y = data.sick"
   ]
  },
  {
   "cell_type": "code",
   "execution_count": 41,
   "metadata": {},
   "outputs": [],
   "source": [
    "from sklearn.model_selection import train_test_split\n"
   ]
  },
  {
   "cell_type": "code",
   "execution_count": 42,
   "metadata": {},
   "outputs": [],
   "source": [
    "X_train, X_test, y_train, y_test = train_test_split(data, Y, test_size=0.3, random_state=42)"
   ]
  },
  {
   "cell_type": "code",
   "execution_count": 43,
   "metadata": {},
   "outputs": [
    {
     "name": "stdout",
     "output_type": "stream",
     "text": [
      "(2639, 18) (2639,)\n",
      "(1131, 18) (1131,)\n"
     ]
    }
   ],
   "source": [
    "print(X_train.shape, y_train.shape)\n",
    "print (X_test.shape, y_test.shape)"
   ]
  },
  {
   "cell_type": "code",
   "execution_count": 44,
   "metadata": {},
   "outputs": [],
   "source": [
    "from xgboost import XGBClassifier"
   ]
  },
  {
   "cell_type": "code",
   "execution_count": 32,
   "metadata": {},
   "outputs": [
    {
     "data": {
      "text/plain": [
       "XGBClassifier(base_score=0.5, booster='gbtree', colsample_bylevel=1,\n",
       "       colsample_bytree=1, gamma=0, learning_rate=0.1, max_delta_step=0,\n",
       "       max_depth=3, min_child_weight=1, missing=None, n_estimators=100,\n",
       "       n_jobs=1, nthread=None, objective='binary:logistic', random_state=0,\n",
       "       reg_alpha=0, reg_lambda=1, scale_pos_weight=1, seed=None,\n",
       "       silent=True, subsample=1)"
      ]
     },
     "execution_count": 32,
     "metadata": {},
     "output_type": "execute_result"
    }
   ],
   "source": [
    "model = XGBClassifier()\n",
    "model.fit(X_train, y_train)"
   ]
  },
  {
   "cell_type": "code",
   "execution_count": 33,
   "metadata": {},
   "outputs": [
    {
     "name": "stderr",
     "output_type": "stream",
     "text": [
      "c:\\users\\abayomi\\appdata\\local\\programs\\python\\python35\\lib\\site-packages\\sklearn\\preprocessing\\label.py:151: DeprecationWarning: The truth value of an empty array is ambiguous. Returning False, but in future this will result in an error. Use `array.size > 0` to check that an array is not empty.\n",
      "  if diff:\n"
     ]
    }
   ],
   "source": [
    "y_pred = model.predict(X_test)\n",
    "predictions = [round(value) for value in y_pred]"
   ]
  },
  {
   "cell_type": "code",
   "execution_count": 34,
   "metadata": {},
   "outputs": [],
   "source": [
    "from sklearn.metrics import accuracy_score"
   ]
  },
  {
   "cell_type": "code",
   "execution_count": 35,
   "metadata": {},
   "outputs": [
    {
     "name": "stdout",
     "output_type": "stream",
     "text": [
      "Accuracy: 100.00%\n"
     ]
    }
   ],
   "source": [
    "accuracy = accuracy_score(y_test, predictions)\n",
    "print(\"Accuracy: %.2f%%\" % (accuracy * 100.0))"
   ]
  },
  {
   "cell_type": "code",
   "execution_count": 36,
   "metadata": {},
   "outputs": [
    {
     "name": "stdout",
     "output_type": "stream",
     "text": [
      "Precision: 100.00%\n"
     ]
    }
   ],
   "source": [
    "from sklearn.metrics import f1_score, precision_score, recall_score\n",
    "precision = precision_score(y_test, predictions)\n",
    "print(\"Precision: %.2f%%\" % (precision * 100.0))"
   ]
  },
  {
   "cell_type": "code",
   "execution_count": 37,
   "metadata": {},
   "outputs": [
    {
     "name": "stdout",
     "output_type": "stream",
     "text": [
      "F1: 100.00%\n"
     ]
    }
   ],
   "source": [
    "F1 = f1_score(y_test, predictions)\n",
    "print(\"F1: %.2f%%\" % (F1 * 100.0))"
   ]
  },
  {
   "cell_type": "code",
   "execution_count": 121,
   "metadata": {},
   "outputs": [],
   "source": [
    "from sklearn.metrics import roc_curve\n",
    "from sklearn.metrics import roc_auc_score"
   ]
  },
  {
   "cell_type": "code",
   "execution_count": 61,
   "metadata": {},
   "outputs": [
    {
     "name": "stdout",
     "output_type": "stream",
     "text": [
      "Train AUC:1.000\n"
     ]
    }
   ],
   "source": [
    "auc_test = roc_auc_score(y_test, y_pred)\n",
    "print('Train AUC:%.3f'%auc_test)\n"
   ]
  },
  {
   "cell_type": "code",
   "execution_count": 62,
   "metadata": {},
   "outputs": [],
   "source": [
    "fpr, tpr, threshold = roc_curve(y_test, y_pred)"
   ]
  },
  {
   "cell_type": "code",
   "execution_count": 63,
   "metadata": {},
   "outputs": [
    {
     "name": "stderr",
     "output_type": "stream",
     "text": [
      "Exception ignored in: <bound method DMatrix.__del__ of <xgboost.core.DMatrix object at 0x000000C127A68668>>\n",
      "Traceback (most recent call last):\n",
      "  File \"c:\\users\\abayomi\\appdata\\local\\programs\\python\\python35\\lib\\site-packages\\xgboost\\core.py\", line 366, in __del__\n",
      "    if self.handle is not None:\n",
      "AttributeError: 'DMatrix' object has no attribute 'handle'\n"
     ]
    },
    {
     "data": {
      "image/png": "[encoded data removed]",
      "text/plain": [
       "<matplotlib.figure.Figure at 0xc127722fd0>"
      ]
     },
     "metadata": {},
     "output_type": "display_data"
    },
    {
     "data": {
      "text/plain": [
       "<matplotlib.figure.Figure at 0xc133526dd8>"
      ]
     },
     "metadata": {},
     "output_type": "display_data"
    }
   ],
   "source": [
    "plt.plot(fpr, tpr,'r-', label = 'AUC Curve: %.2f'%auc_test)\n",
    "\n",
    "\n",
    "plt.plot([0,1],[0,1],'-k')\n",
    "plt.xlabel('False Positive Rate')\n",
    "plt.ylabel('True Positive Rate')\n",
    "plt.legend()\n",
    "plt.show()\n",
    "plt.savefig('Area under curve.png', format = 'png', dpi = 300)"
   ]
  },
  {
   "cell_type": "markdown",
   "metadata": {},
   "source": [
    "### Using decision trees"
   ]
  },
  {
   "cell_type": "code",
   "execution_count": 45,
   "metadata": {},
   "outputs": [],
   "source": [
    "from sklearn.tree import DecisionTreeClassifier\n",
    "from sklearn import tree"
   ]
  },
  {
   "cell_type": "code",
   "execution_count": 46,
   "metadata": {},
   "outputs": [
    {
     "data": {
      "text/plain": [
       "DecisionTreeClassifier(class_weight=None, criterion='gini', max_depth=3,\n",
       "            max_features=None, max_leaf_nodes=None,\n",
       "            min_impurity_decrease=0.0, min_impurity_split=None,\n",
       "            min_samples_leaf=5, min_samples_split=2,\n",
       "            min_weight_fraction_leaf=0.0, presort=False, random_state=100,\n",
       "            splitter='best')"
      ]
     },
     "execution_count": 46,
     "metadata": {},
     "output_type": "execute_result"
    }
   ],
   "source": [
    "clf = DecisionTreeClassifier(criterion = \"gini\", random_state = 100,\n",
    "                               max_depth=3, min_samples_leaf=5)\n",
    "clf.fit(X_train, y_train)"
   ]
  },
  {
   "cell_type": "code",
   "execution_count": 49,
   "metadata": {},
   "outputs": [],
   "source": [
    "y_pred2 = clf.predict(X_test)\n",
    "pred2 = [round(value) for value in y_pred2]"
   ]
  },
  {
   "cell_type": "code",
   "execution_count": 50,
   "metadata": {},
   "outputs": [
    {
     "name": "stdout",
     "output_type": "stream",
     "text": [
      "Precision: 100.00%\n"
     ]
    }
   ],
   "source": [
    "from sklearn.metrics import f1_score, accuracy_score, precision_score, recall_score\n",
    "precision1 = precision_score(y_test, pred2)\n",
    "print(\"Precision: %.2f%%\" % (precision1 * 100.0))"
   ]
  },
  {
   "cell_type": "code",
   "execution_count": 52,
   "metadata": {},
   "outputs": [
    {
     "name": "stdout",
     "output_type": "stream",
     "text": [
      "Accuracy: 100.00%\n"
     ]
    }
   ],
   "source": [
    "accuracy1 = accuracy_score(y_test, pred2)\n",
    "print(\"Accuracy: %.2f%%\" % (accuracy1 * 100.0))"
   ]
  },
  {
   "cell_type": "code",
   "execution_count": null,
   "metadata": {},
   "outputs": [],
   "source": []
  },
  {
   "cell_type": "code",
   "execution_count": null,
   "metadata": {},
   "outputs": [],
   "source": []
  },
  {
   "cell_type": "markdown",
   "metadata": {},
   "source": [
    "### Using Logistic Regression"
   ]
  },
  {
   "cell_type": "code",
   "execution_count": 112,
   "metadata": {},
   "outputs": [],
   "source": [
    "from sklearn import linear_model"
   ]
  },
  {
   "cell_type": "code",
   "execution_count": 113,
   "metadata": {},
   "outputs": [],
   "source": [
    "lg = linear_model.LogisticRegression(C = 0.0001, penalty = 'l2', random_state = 42)\n"
   ]
  },
  {
   "cell_type": "code",
   "execution_count": 114,
   "metadata": {},
   "outputs": [
    {
     "data": {
      "text/plain": [
       "LogisticRegression(C=0.0001, class_weight=None, dual=False,\n",
       "          fit_intercept=True, intercept_scaling=1, max_iter=100,\n",
       "          multi_class='ovr', n_jobs=1, penalty='l2', random_state=42,\n",
       "          solver='liblinear', tol=0.0001, verbose=0, warm_start=False)"
      ]
     },
     "execution_count": 114,
     "metadata": {},
     "output_type": "execute_result"
    }
   ],
   "source": [
    "lg.fit(X_train, y_train)"
   ]
  },
  {
   "cell_type": "code",
   "execution_count": 116,
   "metadata": {},
   "outputs": [
    {
     "name": "stderr",
     "output_type": "stream",
     "text": [
      "c:\\users\\abayomi\\appdata\\local\\programs\\python\\python35\\lib\\site-packages\\sklearn\\preprocessing\\label.py:151: DeprecationWarning: The truth value of an empty array is ambiguous. Returning False, but in future this will result in an error. Use `array.size > 0` to check that an array is not empty.\n",
      "  if diff:\n"
     ]
    }
   ],
   "source": [
    "y_pred1 = model.predict(X_test)\n",
    "pred1 = [round(value) for value in y_pred]"
   ]
  },
  {
   "cell_type": "code",
   "execution_count": 117,
   "metadata": {},
   "outputs": [
    {
     "name": "stdout",
     "output_type": "stream",
     "text": [
      "Precision: 82.76%\n"
     ]
    }
   ],
   "source": [
    "from sklearn.metrics import f1_score, accuracy_score, precision_score, recall_score\n",
    "precision1 = precision_score(y_test, pred1)\n",
    "print(\"Precision: %.2f%%\" % (precision1 * 100.0))"
   ]
  },
  {
   "cell_type": "code",
   "execution_count": 118,
   "metadata": {},
   "outputs": [
    {
     "name": "stdout",
     "output_type": "stream",
     "text": [
      "Accuracy: 98.15%\n"
     ]
    }
   ],
   "source": [
    "accuracy1 = accuracy_score(y_test, pred1)\n",
    "print(\"Accuracy: %.2f%%\" % (accuracy1 * 100.0))"
   ]
  },
  {
   "cell_type": "code",
   "execution_count": 119,
   "metadata": {},
   "outputs": [
    {
     "name": "stdout",
     "output_type": "stream",
     "text": [
      "F1: 77.42%\n"
     ]
    }
   ],
   "source": [
    "F1_score = f1_score(y_test, y_pred1)\n",
    "print(\"F1: %.2f%%\" % (F1_score * 100.0))"
   ]
  },
  {
   "cell_type": "code",
   "execution_count": 120,
   "metadata": {},
   "outputs": [
    {
     "name": "stdout",
     "output_type": "stream",
     "text": [
      "recall: 72.73%\n"
     ]
    }
   ],
   "source": [
    "recall = recall_score(y_test, pred1)\n",
    "print(\"recall: %.2f%%\" % (recall * 100.0))"
   ]
  },
  {
   "cell_type": "code",
   "execution_count": 122,
   "metadata": {},
   "outputs": [
    {
     "name": "stdout",
     "output_type": "stream",
     "text": [
      "Train AUC:1.000\n"
     ]
    }
   ],
   "source": [
    "auc_test1 = roc_auc_score(y_test, y_pred1)\n",
    "print('Train AUC:%.3f'%auc_test1)"
   ]
  },
  {
   "cell_type": "code",
   "execution_count": 123,
   "metadata": {},
   "outputs": [],
   "source": [
    "fpr1, tpr1, threshold1 = roc_curve(y_test, y_pred1)"
   ]
  },
  {
   "cell_type": "code",
   "execution_count": 124,
   "metadata": {},
   "outputs": [
    {
     "data": {
      "image/png": "[encoded data removed]",
      "text/plain": [
       "<matplotlib.figure.Figure at 0xc1334ebb38>"
      ]
     },
     "metadata": {},
     "output_type": "display_data"
    },
    {
     "data": {
      "text/plain": [
       "<matplotlib.figure.Figure at 0xc13353e208>"
      ]
     },
     "metadata": {},
     "output_type": "display_data"
    }
   ],
   "source": [
    "plt.plot(fpr1, tpr1,'r-', label = 'AUC Curve: %.2f'%auc_test1)\n",
    "\n",
    "\n",
    "plt.plot([0,1],[0,1],'-k')\n",
    "plt.xlabel('False Positive Rate')\n",
    "plt.ylabel('True Positive Rate')\n",
    "plt.legend()\n",
    "plt.show()\n",
    "plt.savefig('Area under curve.png', format = 'png', dpi = 300)"
   ]
  },
  {
   "cell_type": "code",
   "execution_count": 128,
   "metadata": {},
   "outputs": [
    {
     "name": "stdout",
     "output_type": "stream",
     "text": [
      "3161    0\n",
      "1620    1\n",
      "2370    0\n",
      "2911    0\n",
      "2604    0\n",
      "612     0\n",
      "2488    0\n",
      "1864    0\n",
      "2514    0\n",
      "485     0\n",
      "2186    0\n",
      "3321    0\n",
      "3286    0\n",
      "258     0\n",
      "386     0\n",
      "2878    0\n",
      "2970    0\n",
      "1615    0\n",
      "2709    0\n",
      "803     0\n",
      "209     0\n",
      "3415    0\n",
      "1503    0\n",
      "1074    0\n",
      "2537    0\n",
      "2029    0\n",
      "596     0\n",
      "3028    0\n",
      "2930    0\n",
      "296     0\n",
      "       ..\n",
      "2325    0\n",
      "955     0\n",
      "1215    0\n",
      "2434    0\n",
      "2854    0\n",
      "3486    0\n",
      "1515    0\n",
      "2392    0\n",
      "769     0\n",
      "3381    0\n",
      "1685    0\n",
      "130     0\n",
      "3736    0\n",
      "2920    0\n",
      "3172    0\n",
      "3445    0\n",
      "2136    0\n",
      "1482    0\n",
      "330     0\n",
      "1238    0\n",
      "466     0\n",
      "2170    0\n",
      "1638    0\n",
      "3093    0\n",
      "1095    0\n",
      "1130    0\n",
      "1294    0\n",
      "860     0\n",
      "3508    0\n",
      "3175    0\n",
      "Name: sick, dtype: int8\n"
     ]
    }
   ],
   "source": [
    "print(y_train)"
   ]
  },
  {
   "cell_type": "code",
   "execution_count": 144,
   "metadata": {},
   "outputs": [
    {
     "name": "stdout",
     "output_type": "stream",
     "text": [
      "[[722   0]\n",
      " [  0  33]]\n"
     ]
    },
    {
     "data": {
      "image/png": "[encoded data removed]",
      "text/plain": [
       "<matplotlib.figure.Figure at 0xc127cb7e80>"
      ]
     },
     "metadata": {},
     "output_type": "display_data"
    },
    {
     "data": {
      "text/plain": [
       "<matplotlib.figure.Figure at 0xc127cee240>"
      ]
     },
     "metadata": {},
     "output_type": "display_data"
    }
   ],
   "source": [
    "from sklearn.metrics import confusion_matrix\n",
    "labels = ['sick', 'not sick']\n",
    "cm = confusion_matrix(y_test, y_pred1)\n",
    "print(cm)\n",
    "fig = plt.figure()\n",
    "ax = fig.add_subplot(111)\n",
    "cax = ax.matshow(cm)\n",
    "plt.title('Confusion matrix of the classifier')\n",
    "\n",
    "fig.colorbar(cax)\n",
    "ax.set_xticklabels([''] + labels)\n",
    "ax.set_yticklabels([''] + labels)\n",
    "plt.xlabel('Predicted')\n",
    "plt.ylabel('True')\n",
    "plt.show()\n",
    "plt.savefig('confusion_matrix2.png', format = 'png', dpi = 300)"
   ]
  },
  {
   "cell_type": "code",
   "execution_count": null,
   "metadata": {},
   "outputs": [],
   "source": []
  }
 ],
 "metadata": {
  "kernelspec": {
   "display_name": "Python 3",
   "language": "python",
   "name": "python3"
  },
  "language_info": {
   "codemirror_mode": {
    "name": "ipython",
    "version": 3
   },
   "file_extension": ".py",
   "mimetype": "text/x-python",
   "name": "python",
   "nbconvert_exporter": "python",
   "pygments_lexer": "ipython3",
   "version": "3.5.3"
  }
 },
 "nbformat": 4,
 "nbformat_minor": 2
}
